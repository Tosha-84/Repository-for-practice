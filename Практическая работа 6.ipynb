{
 "cells": [
  {
   "cell_type": "markdown",
   "metadata": {},
   "source": [
    "# Практическая работа 6"
   ]
  },
  {
   "cell_type": "markdown",
   "metadata": {},
   "source": [
    "## Задача 1"
   ]
  },
  {
   "cell_type": "code",
   "execution_count": 1,
   "metadata": {},
   "outputs": [
    {
     "name": "stdout",
     "output_type": "stream",
     "text": [
      "3\n",
      "1.3611111111111112\n"
     ]
    }
   ],
   "source": [
    "n = int(input())\n",
    "i = 1\n",
    "sum = 0\n",
    "while i <= n:\n",
    "    sum = sum + 1 / i**2\n",
    "    i += 1\n",
    "print(sum)"
   ]
  },
  {
   "cell_type": "markdown",
   "metadata": {},
   "source": [
    "## Задача 2"
   ]
  },
  {
   "cell_type": "code",
   "execution_count": 2,
   "metadata": {},
   "outputs": [
    {
     "name": "stdout",
     "output_type": "stream",
     "text": [
      "0.1235\n",
      "0.1235\n"
     ]
    }
   ],
   "source": [
    "X = float(input())\n",
    "print(X % 1)"
   ]
  },
  {
   "cell_type": "markdown",
   "metadata": {},
   "source": [
    "## Задача 3"
   ]
  },
  {
   "cell_type": "code",
   "execution_count": 3,
   "metadata": {
    "scrolled": true
   },
   "outputs": [
    {
     "name": "stdout",
     "output_type": "stream",
     "text": [
      "45.90\n",
      "45 90\n"
     ]
    }
   ],
   "source": [
    "q = float(input())\n",
    "e = q // 1\n",
    "q = int((round(q - e, 2)) * 100)\n",
    "print(int(e), q)"
   ]
  },
  {
   "cell_type": "markdown",
   "metadata": {},
   "source": [
    "## Задача 4"
   ]
  },
  {
   "cell_type": "code",
   "execution_count": 4,
   "metadata": {},
   "outputs": [
    {
     "name": "stdout",
     "output_type": "stream",
     "text": [
      "4.5\n",
      "5\n"
     ]
    }
   ],
   "source": [
    "q = float(input())\n",
    "if round(q % 1, 6) >= 0.5:\n",
    "    q = int((q // 1) + 1)\n",
    "else:\n",
    "    q = int(q)\n",
    "print(q)"
   ]
  },
  {
   "cell_type": "markdown",
   "metadata": {},
   "source": [
    "## Задача 5"
   ]
  },
  {
   "cell_type": "code",
   "execution_count": 5,
   "metadata": {},
   "outputs": [
    {
     "name": "stdout",
     "output_type": "stream",
     "text": [
      "12\n",
      "179\n",
      "0\n",
      "200 48\n"
     ]
    }
   ],
   "source": [
    "P = int(input())\n",
    "X = int(input())\n",
    "Y = int(input())\n",
    "X = X + Y / 100\n",
    "X = X * (1 + (P / 100))\n",
    "print(int(X), end=' ')\n",
    "print(int((X - int(X)) * 100))"
   ]
  },
  {
   "cell_type": "markdown",
   "metadata": {},
   "source": [
    "## Задача 6"
   ]
  },
  {
   "cell_type": "code",
   "execution_count": 10,
   "metadata": {},
   "outputs": [
    {
     "name": "stdout",
     "output_type": "stream",
     "text": [
      "1\n",
      "1\n",
      "0\n",
      "1000\n",
      "11881 92\n"
     ]
    }
   ],
   "source": [
    "P = int(input())\n",
    "X = int(input())\n",
    "Y = int(input())\n",
    "K = int(input())\n",
    "for i in range(K):\n",
    "    X = X + (Y / 100)\n",
    "    X = X * (1 + (P / 100))\n",
    "    Y = int((X * 100) % 100)\n",
    "    X = int(X)\n",
    "print(X, Y)"
   ]
  },
  {
   "cell_type": "markdown",
   "metadata": {},
   "source": [
    "## Задача 7"
   ]
  },
  {
   "cell_type": "code",
   "execution_count": 11,
   "metadata": {},
   "outputs": [
    {
     "name": "stdout",
     "output_type": "stream",
     "text": [
      "5\n",
      "7.1\n",
      "1\n",
      "2\n",
      "3\n",
      "4\n",
      "5\n",
      "6\n",
      "24441.502709999997\n"
     ]
    }
   ],
   "source": [
    " n = int(input())\n",
    "x = float(input())\n",
    "i = 1\n",
    "sum = 0\n",
    "while i <= n:\n",
    "    q = int(input())\n",
    "    sum = (sum + q) * x\n",
    "    i = i + 1\n",
    "q = float(input())\n",
    "sum = sum + q\n",
    "print(sum)"
   ]
  },
  {
   "cell_type": "markdown",
   "metadata": {},
   "source": [
    "## Задача 8"
   ]
  },
  {
   "cell_type": "code",
   "execution_count": 13,
   "metadata": {},
   "outputs": [
    {
     "name": "stdout",
     "output_type": "stream",
     "text": [
      "1\n",
      "7\n",
      "9\n",
      "0\n",
      "4.163331998932266\n"
     ]
    }
   ],
   "source": [
    "from math import sqrt\n",
    "q = []\n",
    "z = -1\n",
    "s = 0\n",
    "while z != 0:\n",
    "    z = int(input())\n",
    "    if z == 0:\n",
    "        break\n",
    "    q.append(z)\n",
    "for i in range(len(q)):\n",
    "    s = s + q[i]\n",
    "s = s / len(q)\n",
    "w = 0\n",
    "for i in range(len(q)):\n",
    "    w = w + (q[i] - s)**2\n",
    "w = w / (len(q) - 1)\n",
    "w = sqrt(w)\n",
    "print(w)"
   ]
  },
  {
   "cell_type": "markdown",
   "metadata": {},
   "source": [
    "## Задача 9"
   ]
  },
  {
   "cell_type": "code",
   "execution_count": 15,
   "metadata": {},
   "outputs": [
    {
     "name": "stdout",
     "output_type": "stream",
     "text": [
      "1\n",
      "-1\n",
      "-2\n",
      "-1.0 2.0\n"
     ]
    }
   ],
   "source": [
    "from math import sqrt\n",
    "a = float(input())\n",
    "b = float(input())\n",
    "c = float(input())\n",
    "D = ((-b)**2) - (4 * a * c)\n",
    "if D > 0:\n",
    "    x1 = (((-b) - sqrt(D)) / (2 * a))\n",
    "    x2 = (((-b) + sqrt(D)) / (2 * a))\n",
    "    if x2 > x1:\n",
    "        print(x1, x2)\n",
    "    else:\n",
    "        print(x2, x1)\n",
    "elif D == 0:\n",
    "    x = (-b) / (2 * a)\n",
    "    print(x)"
   ]
  },
  {
   "cell_type": "markdown",
   "metadata": {},
   "source": [
    "## Задача 10"
   ]
  },
  {
   "cell_type": "code",
   "execution_count": 18,
   "metadata": {},
   "outputs": [
    {
     "name": "stdout",
     "output_type": "stream",
     "text": [
      "0\n",
      "4\n",
      "2\n",
      "-0.5\n"
     ]
    }
   ],
   "source": [
    "from math import sqrt\n",
    "a = float(input())\n",
    "b = float(input())\n",
    "c = float(input())\n",
    "if a != 0:\n",
    "    D = ((-b)**2) - (4 * a * c)\n",
    "if D > 0:\n",
    "    x1 = (((-b) - sqrt(D)) / (2 * a))\n",
    "    x2 = (((-b) + sqrt(D)) / (2 * a))\n",
    "    if x2 > x1:\n",
    "        print(x1, x2)\n",
    "    else:\n",
    "        print(x2, x1)\n",
    "elif D == 0:\n",
    "    x = (-b) / (2 * a)\n",
    "    print(x)\n",
    "else:\n",
    "    x = -c / b\n",
    "    print(x)"
   ]
  },
  {
   "cell_type": "markdown",
   "metadata": {},
   "source": [
    "## Задача 11"
   ]
  },
  {
   "cell_type": "code",
   "execution_count": 19,
   "metadata": {},
   "outputs": [
    {
     "name": "stdout",
     "output_type": "stream",
     "text": [
      "3\n",
      "5\n",
      "4\n",
      "4\n",
      "11\n",
      "12\n",
      "2.0 1.0\n"
     ]
    }
   ],
   "source": [
    "a = float(input())\n",
    "b = float(input())\n",
    "c = float(input())\n",
    "d = float(input())\n",
    "e = float(input())\n",
    "f = float(input())\n",
    "x = ((d * e) - (b * f)) / ((d * a) - (b * c))\n",
    "y = ((a * f) - (c * e)) / ((a * d) - (c * b))\n",
    "print(x, y)"
   ]
  },
  {
   "cell_type": "markdown",
   "metadata": {},
   "source": [
    "## Задача 12"
   ]
  },
  {
   "cell_type": "code",
   "execution_count": 20,
   "metadata": {},
   "outputs": [
    {
     "name": "stdout",
     "output_type": "stream",
     "text": [
      "0\n",
      "0\n",
      "0\n",
      "0\n",
      "0\n",
      "0\n",
      "5\n"
     ]
    }
   ],
   "source": [
    "a = float(input())\n",
    "b = float(input())\n",
    "c = float(input())\n",
    "d = float(input())\n",
    "e = float(input())\n",
    "f = float(input())\n",
    "if a == 0 and b == 0 and c == 0 and d == 0 and e == 0 and f == 0:\n",
    "    print(5)\n",
    "elif b == 0 and d == 0:\n",
    "    if a != 0:\n",
    "        print(3, e / a)\n",
    "    else:\n",
    "        print(3, f / c)\n",
    "elif a == 0 and c == 0:\n",
    "    if b != 0:\n",
    "        print(4, e / b)\n",
    "    else:\n",
    "        print(4, f / d)\n",
    "elif a * d == b * c and a * f == c * e:\n",
    "    if b != 0:\n",
    "        print(1, -a / b, e / b)\n",
    "    else:\n",
    "        print(1, -c / d, f / d)\n",
    "elif a * d == b * c and a * f != c * e:\n",
    "    print(0)\n",
    "else:\n",
    "    x = (e * d - b * f) / (a * d - b * c)\n",
    "    y = (a * f - e * c) / (a * d - b * c)\n",
    "    print(2, x, y)"
   ]
  },
  {
   "cell_type": "markdown",
   "metadata": {},
   "source": [
    "## Задача 13"
   ]
  },
  {
   "cell_type": "code",
   "execution_count": 21,
   "metadata": {},
   "outputs": [
    {
     "name": "stdout",
     "output_type": "stream",
     "text": [
      "qwertyuiop\n",
      "o\n",
      "qwert\n",
      "qwertyui\n",
      "qetuo\n",
      "wryip\n",
      "poiuytrewq\n",
      "piyrw\n",
      "10\n"
     ]
    }
   ],
   "source": [
    "q = input()\n",
    "print(q[len(q) - 2])\n",
    "print(q[0:5])\n",
    "print(q[0:len(q)-2])\n",
    "print(q[0:len(q):2])\n",
    "print(q[1:len(q):2])\n",
    "for i in range(len(q)):\n",
    "    print(q[len(q) - 1 - i], end='')\n",
    "print()\n",
    "for i in range(len(q)):\n",
    "    if i % 2 ==0:\n",
    "        print(q[len(q) - 1 - i], end='')\n",
    "print()\n",
    "print(len(q))"
   ]
  },
  {
   "cell_type": "markdown",
   "metadata": {},
   "source": [
    "## Задача 14"
   ]
  },
  {
   "cell_type": "code",
   "execution_count": 22,
   "metadata": {},
   "outputs": [
    {
     "name": "stdout",
     "output_type": "stream",
     "text": [
      "asdfzxccvasdf\n",
      "3 12\n"
     ]
    }
   ],
   "source": [
    "q = input()\n",
    "w = q.find('f')\n",
    "print(q.find('f'), end=' ')\n",
    "if q.rfind('f') != w:\n",
    "    print(q.rfind('f'))"
   ]
  },
  {
   "cell_type": "markdown",
   "metadata": {},
   "source": [
    "## Задача 15"
   ]
  },
  {
   "cell_type": "code",
   "execution_count": 23,
   "metadata": {},
   "outputs": [
    {
     "name": "stdout",
     "output_type": "stream",
     "text": [
      "qwerhasdfhxzcv\n",
      "qwerxzcv\n"
     ]
    }
   ],
   "source": [
    "q = input()\n",
    "print(q[0:q.find('h')] + q[q.rfind('h') + 1:len(q)])"
   ]
  },
  {
   "cell_type": "markdown",
   "metadata": {},
   "source": [
    "## Задача 16"
   ]
  },
  {
   "cell_type": "code",
   "execution_count": 24,
   "metadata": {},
   "outputs": [
    {
     "name": "stdout",
     "output_type": "stream",
     "text": [
      "qwerhasdfehzxcv\n",
      "asdfeasdfe\n"
     ]
    }
   ],
   "source": [
    "q = input()\n",
    "print(q[q.find('h') + 1:q.rfind('h')]*2)"
   ]
  },
  {
   "cell_type": "markdown",
   "metadata": {},
   "source": [
    "## Задача 17"
   ]
  },
  {
   "cell_type": "code",
   "execution_count": 25,
   "metadata": {},
   "outputs": [
    {
     "name": "stdout",
     "output_type": "stream",
     "text": [
      "qwerfxzvcf\n",
      "9\n"
     ]
    }
   ],
   "source": [
    "q = input()\n",
    "if q.find('f') == -1:\n",
    "    print(-2)\n",
    "else:\n",
    "    q = q[0:q.find('f')] + q[q.find('f') + 1:len(q)]\n",
    "    if q.find('f') == -1:\n",
    "        print(-1)\n",
    "    else:\n",
    "        print(q.find('f') + 1)"
   ]
  },
  {
   "cell_type": "markdown",
   "metadata": {},
   "source": [
    "## Задача 18"
   ]
  },
  {
   "cell_type": "code",
   "execution_count": 26,
   "metadata": {},
   "outputs": [
    {
     "name": "stdout",
     "output_type": "stream",
     "text": [
      "qwer asdf\n",
      "asdf qwer\n"
     ]
    }
   ],
   "source": [
    "q = input()\n",
    "print(q[q.find(' ')+1:len(q)] + ' ' + q[0:q.find(' ')])"
   ]
  },
  {
   "cell_type": "markdown",
   "metadata": {},
   "source": [
    "## Задача 19"
   ]
  },
  {
   "cell_type": "code",
   "execution_count": 27,
   "metadata": {},
   "outputs": [
    {
     "name": "stdout",
     "output_type": "stream",
     "text": [
      "q a s d f v\n",
      "6\n"
     ]
    }
   ],
   "source": [
    "q = input()\n",
    "z = 0\n",
    "for i in range(len(q)):\n",
    "    if q[i] == ' ':\n",
    "        z += 1\n",
    "z += 1\n",
    "print(z)"
   ]
  },
  {
   "cell_type": "markdown",
   "metadata": {},
   "source": [
    "## Задача 20"
   ]
  },
  {
   "cell_type": "code",
   "execution_count": 28,
   "metadata": {},
   "outputs": [
    {
     "name": "stdout",
     "output_type": "stream",
     "text": [
      "1kij1hn11nlo1\n",
      "onekijonehnoneonenloone\n"
     ]
    }
   ],
   "source": [
    "q = input()\n",
    "i = 0\n",
    "while i < len(q):\n",
    "    if q[i] == '1':\n",
    "        q = q[0:q.find('1')] + 'one' + q[q.find('1')+1:len(q)]\n",
    "        i += 2\n",
    "    i += 1\n",
    "print(q)"
   ]
  },
  {
   "cell_type": "markdown",
   "metadata": {},
   "source": [
    "## Задача 21"
   ]
  },
  {
   "cell_type": "code",
   "execution_count": 29,
   "metadata": {},
   "outputs": [
    {
     "name": "stdout",
     "output_type": "stream",
     "text": [
      "@kjl@lkjn@j nbljk@\n",
      "kjllkjnj nbljk\n"
     ]
    }
   ],
   "source": [
    "q = input()\n",
    "i = 0\n",
    "while i < len(q):\n",
    "    if q[i] == '@':\n",
    "        q = q[0:q.find('@')] + q[q.find('@')+1:len(q)]\n",
    "        continue\n",
    "    i += 1\n",
    "print(q)"
   ]
  },
  {
   "cell_type": "markdown",
   "metadata": {},
   "source": [
    "## Задача 22"
   ]
  },
  {
   "cell_type": "code",
   "execution_count": 30,
   "metadata": {},
   "outputs": [
    {
     "name": "stdout",
     "output_type": "stream",
     "text": [
      "hasdfhsadfhasdfhasdfhhhh\n",
      "hasdfHsadfHasdfHasdfHHHh\n"
     ]
    }
   ],
   "source": [
    "q = input()\n",
    "i = 0\n",
    "while i < len(q):\n",
    "    if q[i] == 'h' and (i != q.find('h') and i != q.rfind('h')):\n",
    "        q = q[0:i] + 'H' + q[i+1:len(q)]\n",
    "    i += 1\n",
    "print(q)"
   ]
  },
  {
   "cell_type": "markdown",
   "metadata": {},
   "source": [
    "## Задача 23"
   ]
  },
  {
   "cell_type": "code",
   "execution_count": 31,
   "metadata": {},
   "outputs": [
    {
     "name": "stdout",
     "output_type": "stream",
     "text": [
      "sadvfgadsfrgvedar\n",
      "s*a*d*v*f*g*a*d*s*f*r*g*v*e*d*a*r\n"
     ]
    }
   ],
   "source": [
    "q = input()\n",
    "i = 0\n",
    "while i < len(q):\n",
    "    if i != 0:\n",
    "        q = q[0:i] + '*' + q[i:len(q)]\n",
    "        i +=2\n",
    "        continue\n",
    "    i += 1\n",
    "print(q)"
   ]
  },
  {
   "cell_type": "markdown",
   "metadata": {},
   "source": [
    "## Задача 24"
   ]
  },
  {
   "cell_type": "code",
   "execution_count": 32,
   "metadata": {},
   "outputs": [
    {
     "name": "stdout",
     "output_type": "stream",
     "text": [
      "123456789\n",
      "0\n",
      "2\n",
      "4\n",
      "235689\n"
     ]
    }
   ],
   "source": [
    "q = input()\n",
    "i = 0\n",
    "z = 0\n",
    "while i < len(q):\n",
    "    if (i + z) % 3 == 0:\n",
    "        q = q[0:i] + q[i+1:len(q)]\n",
    "        print(i)\n",
    "        z += 1\n",
    "    i += 1\n",
    "print(q)"
   ]
  },
  {
   "cell_type": "code",
   "execution_count": null,
   "metadata": {},
   "outputs": [],
   "source": []
  }
 ],
 "metadata": {
  "kernelspec": {
   "display_name": "Python 3",
   "language": "python",
   "name": "python3"
  },
  "language_info": {
   "codemirror_mode": {
    "name": "ipython",
    "version": 3
   },
   "file_extension": ".py",
   "mimetype": "text/x-python",
   "name": "python",
   "nbconvert_exporter": "python",
   "pygments_lexer": "ipython3",
   "version": "3.7.4"
  }
 },
 "nbformat": 4,
 "nbformat_minor": 4
}
