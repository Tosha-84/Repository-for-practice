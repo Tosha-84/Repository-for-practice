{
 "cells": [
  {
   "cell_type": "markdown",
   "metadata": {},
   "source": [
    "# Практическая работа 4"
   ]
  },
  {
   "cell_type": "markdown",
   "metadata": {},
   "source": [
    "## Задача 1"
   ]
  },
  {
   "cell_type": "code",
   "execution_count": 1,
   "metadata": {},
   "outputs": [
    {
     "name": "stdout",
     "output_type": "stream",
     "text": [
      "4\n",
      "9\n"
     ]
    },
    {
     "data": {
      "text/plain": [
       "9"
      ]
     },
     "execution_count": 1,
     "metadata": {},
     "output_type": "execute_result"
    }
   ],
   "source": [
    "A = int(input())\n",
    "B = int(input())\n",
    "max(A, B)"
   ]
  },
  {
   "cell_type": "markdown",
   "metadata": {},
   "source": [
    "## Задача 2"
   ]
  },
  {
   "cell_type": "code",
   "execution_count": 4,
   "metadata": {},
   "outputs": [
    {
     "name": "stdout",
     "output_type": "stream",
     "text": [
      "4\n",
      "5\n",
      "2\n"
     ]
    }
   ],
   "source": [
    "A = int(input())\n",
    "B = int(input())\n",
    "if A > B:\n",
    "    print(1)\n",
    "elif A < B:\n",
    "    print(2)\n",
    "else:\n",
    "    print(0)"
   ]
  },
  {
   "cell_type": "markdown",
   "metadata": {},
   "source": [
    "## Задача 3"
   ]
  },
  {
   "cell_type": "code",
   "execution_count": 5,
   "metadata": {},
   "outputs": [
    {
     "name": "stdout",
     "output_type": "stream",
     "text": [
      "4\n",
      "2\n",
      "8\n"
     ]
    },
    {
     "data": {
      "text/plain": [
       "8"
      ]
     },
     "execution_count": 5,
     "metadata": {},
     "output_type": "execute_result"
    }
   ],
   "source": [
    "q = int(input())\n",
    "w = int(input())\n",
    "e = int(input())\n",
    "max(q, w, e)"
   ]
  },
  {
   "cell_type": "markdown",
   "metadata": {},
   "source": [
    "## Задача 4"
   ]
  },
  {
   "cell_type": "code",
   "execution_count": 8,
   "metadata": {},
   "outputs": [
    {
     "name": "stdout",
     "output_type": "stream",
     "text": [
      "100\n",
      "NO\n"
     ]
    }
   ],
   "source": [
    "q = int(input())\n",
    "if ((q % 4 == 0) and (q % 100 != 0) or (q % 400 == 0)):\n",
    "    print('YES')\n",
    "else:\n",
    "    print('NO')"
   ]
  },
  {
   "cell_type": "markdown",
   "metadata": {},
   "source": [
    "## Задача 5"
   ]
  },
  {
   "cell_type": "code",
   "execution_count": 9,
   "metadata": {},
   "outputs": [
    {
     "name": "stdout",
     "output_type": "stream",
     "text": [
      "1\n",
      "1\n",
      "2\n",
      "2\n",
      "YES\n"
     ]
    }
   ],
   "source": [
    "a = int(input())\n",
    "b = int(input())\n",
    "c = int(input())\n",
    "d = int(input())\n",
    "if ((a - c == 0) or (a - c == 1) or (a - c == -1)):\n",
    "            if ((b - d == 0) or (b - d == 1) or (b - d == -1)):\n",
    "                print('YES')\n",
    "            else:\n",
    "                print('NO')\n",
    "else:\n",
    "    print('NO')"
   ]
  },
  {
   "cell_type": "markdown",
   "metadata": {},
   "source": [
    "## Задача 6"
   ]
  },
  {
   "cell_type": "code",
   "execution_count": 15,
   "metadata": {},
   "outputs": [
    {
     "name": "stdout",
     "output_type": "stream",
     "text": [
      "11\n",
      "15\n",
      "YES\n"
     ]
    }
   ],
   "source": [
    "x = int(input())\n",
    "y = int(input())\n",
    "z = y - x + 1\n",
    "if x % z == 1:\n",
    "    print('YES')\n",
    "else:\n",
    "    print('NO')"
   ]
  },
  {
   "cell_type": "markdown",
   "metadata": {},
   "source": [
    "## Задача 7"
   ]
  },
  {
   "cell_type": "code",
   "execution_count": 14,
   "metadata": {},
   "outputs": [
    {
     "name": "stdout",
     "output_type": "stream",
     "text": [
      "1\n",
      "1\n",
      "2\n",
      "2\n",
      "YES\n"
     ]
    }
   ],
   "source": [
    "q = int(input())\n",
    "w = int(input())\n",
    "e = int(input())\n",
    "r = int(input())\n",
    "if (q + w) % 2 == (e + r) % 2:\n",
    "    print('YES')\n",
    "else:\n",
    "    print('NO')"
   ]
  },
  {
   "cell_type": "markdown",
   "metadata": {},
   "source": [
    "## Задача 8"
   ]
  },
  {
   "cell_type": "code",
   "execution_count": 16,
   "metadata": {},
   "outputs": [
    {
     "name": "stdout",
     "output_type": "stream",
     "text": [
      "4\n",
      "15\n",
      "12\n",
      "YES\n"
     ]
    }
   ],
   "source": [
    "n = int(input())\n",
    "m = int(input())\n",
    "k = int(input())\n",
    "if k % n == 0 or k % m == 0:\n",
    "    print('YES')\n",
    "else:\n",
    "    print('NO')"
   ]
  },
  {
   "cell_type": "markdown",
   "metadata": {},
   "source": [
    "## Задача 9"
   ]
  },
  {
   "cell_type": "code",
   "execution_count": 17,
   "metadata": {},
   "outputs": [
    {
     "name": "stdout",
     "output_type": "stream",
     "text": [
      "74\n",
      "74 Коровы\n"
     ]
    }
   ],
   "source": [
    "a = int(input())\n",
    "if ((a >= 10) and a <= 20):\n",
    "    print(a, 'Коров')\n",
    "elif (a % 10 == 2) or (a % 10 == 3) or (a % 10 == 4):\n",
    "    print(a, 'Коровы')\n",
    "elif (a % 10 == 1):\n",
    "    print(a, 'Корова')\n",
    "else:\n",
    "    print(a, 'Коров')"
   ]
  },
  {
   "cell_type": "markdown",
   "metadata": {},
   "source": [
    "## Задача 10"
   ]
  },
  {
   "cell_type": "code",
   "execution_count": 18,
   "metadata": {},
   "outputs": [
    {
     "name": "stdout",
     "output_type": "stream",
     "text": [
      "3\n",
      "1\n"
     ]
    }
   ],
   "source": [
    "x = int(input())\n",
    "if x > 0:\n",
    "    print(1)\n",
    "elif x < 0:\n",
    "    print(-1)\n",
    "else:\n",
    "    print(0)"
   ]
  },
  {
   "cell_type": "markdown",
   "metadata": {},
   "source": [
    "## Задача 11"
   ]
  },
  {
   "cell_type": "code",
   "execution_count": 20,
   "metadata": {},
   "outputs": [
    {
     "name": "stdout",
     "output_type": "stream",
     "text": [
      "1\n",
      "4\n",
      "5\n",
      "9\n",
      "YES\n"
     ]
    }
   ],
   "source": [
    "x1 = int(input())\n",
    "y1 = int(input())\n",
    "x2 = int(input())\n",
    "y2 = int(input())\n",
    "if x1 > 0:\n",
    "    x1 = 1\n",
    "elif x1 < 0:\n",
    "    x1 = -1\n",
    "else:\n",
    "    x1 = 0\n",
    "if x2 > 0:\n",
    "    x2 = 1\n",
    "elif x2 < 0:\n",
    "    x2 = -1\n",
    "else:\n",
    "    x2 = 0\n",
    "if y1 > 0:\n",
    "    y1 = 1\n",
    "elif y1 < 0:\n",
    "    y1 = -1\n",
    "else:\n",
    "    y1 = 0\n",
    "if y2 > 0:\n",
    "    y2 = 1\n",
    "elif y2 < 0:\n",
    "    y2 = -1\n",
    "else:\n",
    "    y2 = 0\n",
    "if x1 == x2 and y1 == y2:\n",
    "    print('YES')\n",
    "else:\n",
    "    print('NO')"
   ]
  },
  {
   "cell_type": "markdown",
   "metadata": {},
   "source": [
    "## Задача 12"
   ]
  },
  {
   "cell_type": "code",
   "execution_count": 21,
   "metadata": {},
   "outputs": [
    {
     "name": "stdout",
     "output_type": "stream",
     "text": [
      "1\n",
      "1\n",
      "8\n",
      "7\n",
      "NO\n"
     ]
    }
   ],
   "source": [
    "q = int(input())\n",
    "w = int(input())\n",
    "e = int(input())\n",
    "r = int(input())\n",
    "if ((q + w) % 2 == (e + r) % 2) and (e > q) and (r > w):\n",
    "    print('YES')\n",
    "else:\n",
    "    print('NO')"
   ]
  },
  {
   "cell_type": "markdown",
   "metadata": {},
   "source": [
    "## Задача 13"
   ]
  },
  {
   "cell_type": "code",
   "execution_count": 23,
   "metadata": {},
   "outputs": [
    {
     "name": "stdout",
     "output_type": "stream",
     "text": [
      "3\n",
      "4\n",
      "5\n",
      "rectangular\n"
     ]
    }
   ],
   "source": [
    "a = int(input())\n",
    "b = int(input())\n",
    "c = int(input())\n",
    "e = max(a, b, c)\n",
    "q = min(a, b, c)\n",
    "w = a + b + c - e - q\n",
    "if (q + w) <= e:\n",
    "    print('impossible')\n",
    "elif q**2 + w**2 == e**2:\n",
    "    print('rectangular')\n",
    "elif q**2 + w**2 > e**2:\n",
    "    print('acute')\n",
    "else:\n",
    "    print('obtuse')"
   ]
  },
  {
   "cell_type": "markdown",
   "metadata": {},
   "source": [
    "## Задача 14"
   ]
  },
  {
   "cell_type": "code",
   "execution_count": 24,
   "metadata": {},
   "outputs": [
    {
     "name": "stdout",
     "output_type": "stream",
     "text": [
      "3\n",
      "4\n",
      "5\n",
      "YES\n"
     ]
    }
   ],
   "source": [
    "A = int(input())\n",
    "B = int(input())\n",
    "C = int(input())\n",
    "q = 0\n",
    "if A % 2 == 0 or B % 2 == 0 or C % 2 == 0:\n",
    "    q = q + 1\n",
    "if A % 2 == 1 or B % 2 == 1 or C % 2 == 1:\n",
    "    q = q + 1\n",
    "if q == 2:\n",
    "    print('YES')\n",
    "else:\n",
    "    print('NO')"
   ]
  },
  {
   "cell_type": "markdown",
   "metadata": {},
   "source": [
    "## Задача 15"
   ]
  },
  {
   "cell_type": "code",
   "execution_count": 25,
   "metadata": {},
   "outputs": [
    {
     "name": "stdout",
     "output_type": "stream",
     "text": [
      "1\n",
      "1\n",
      "2\n",
      "1 1 2\n"
     ]
    }
   ],
   "source": [
    "a, b, c = int(input()), int(input()), int(input())\n",
    "e = max(a, b, c)\n",
    "q = min(a, b, c)\n",
    "w = a + b + c - e - q\n",
    "print(q, w, e)"
   ]
  },
  {
   "cell_type": "markdown",
   "metadata": {},
   "source": [
    "## Задача 16"
   ]
  },
  {
   "cell_type": "code",
   "execution_count": 26,
   "metadata": {},
   "outputs": [
    {
     "name": "stdout",
     "output_type": "stream",
     "text": [
      "1\n",
      "4\n",
      "1\n",
      "2\n"
     ]
    }
   ],
   "source": [
    "a, b, c = int(input()), int(input()), int(input())\n",
    "if a == b and b == c:\n",
    "    print(3)\n",
    "elif a == b or a == c or b == c:\n",
    "    print(2)\n",
    "else:\n",
    "    print(0)"
   ]
  },
  {
   "cell_type": "markdown",
   "metadata": {},
   "source": [
    "## Задача 17"
   ]
  },
  {
   "cell_type": "code",
   "execution_count": 27,
   "metadata": {},
   "outputs": [
    {
     "name": "stdout",
     "output_type": "stream",
     "text": [
      "1\n",
      "1\n",
      "1\n",
      "1\n",
      "1\n",
      "YES\n"
     ]
    }
   ],
   "source": [
    "a = int(input())\n",
    "b = int(input())\n",
    "c = int(input())\n",
    "d = int(input())\n",
    "e = int(input())\n",
    "if (a >= b) and (a >= c):\n",
    "    if ((b <= d) and (c <= e)) or ((b <= e) and (c <= d)):\n",
    "        print('YES')\n",
    "    else:\n",
    "        print('NO')\n",
    "elif (b >= a) and (b >= c):\n",
    "    if ((a <= d) and (c <= e)) or ((a <= e) and (c <= d)):\n",
    "        print('YES')\n",
    "    else:\n",
    "        print('NO')\n",
    "elif (c >= a) and (c >= b):\n",
    "    if ((a <= d) and (b <= e)) or ((a <= e) and (b <= d)):\n",
    "        print('YES')\n",
    "    else:\n",
    "        print('NO')"
   ]
  },
  {
   "cell_type": "markdown",
   "metadata": {},
   "source": [
    "## Задача 18"
   ]
  },
  {
   "cell_type": "code",
   "execution_count": 28,
   "metadata": {},
   "outputs": [
    {
     "name": "stdout",
     "output_type": "stream",
     "text": [
      "2\n",
      "2\n",
      "3\n",
      "3\n",
      "2\n",
      "1\n",
      "The first box is larger than the second one\n"
     ]
    }
   ],
   "source": [
    "e = int(input())\n",
    "r = int(input())\n",
    "t = int(input())\n",
    "e2 = int(input())\n",
    "r2 = int(input())\n",
    "t2 = int(input())\n",
    "k = '0'\n",
    "if (e == e2):\n",
    "    if (r == r2):\n",
    "        if (t == t2):\n",
    "            k = 'Boxes are equal'\n",
    "            print(k)\n",
    "    else:\n",
    "        if (r == t2):\n",
    "            if (t == r2):\n",
    "                k = 'Boxes are equal'\n",
    "                print(k)\n",
    "if (e == r2) and (k == '0'):\n",
    "    if (r == e2):\n",
    "        if (t == t2):\n",
    "            k = 'Boxes are equal'\n",
    "            print(k)\n",
    "    else:\n",
    "        if (r == t2):\n",
    "            if (t == e2):\n",
    "                k = 'Boxes are equal'\n",
    "                print(k)\n",
    "if (e == t2) and (k == '0'):\n",
    "    if (r == r2):\n",
    "        if (t == e2):\n",
    "            k = 'Boxes are equal'\n",
    "            print(k)\n",
    "    else:\n",
    "        if (r == e2):\n",
    "            if (t == r2):\n",
    "                k = 'Boxes are equal'\n",
    "                print(k)\n",
    "if (e <= e2) and (k == '0'):\n",
    "    if (r <= r2):\n",
    "        if (t <= t2):\n",
    "            k = 'The first box is smaller than the second one'\n",
    "            print(k)\n",
    "    else:\n",
    "        if (r <= t2):\n",
    "            if (t <= r2):\n",
    "                k = 'The first box is smaller than the second one'\n",
    "                print(k)\n",
    "if (e <= r2) and (k == '0'):\n",
    "    if (r <= e2):\n",
    "        if (t <= t2):\n",
    "            k = 'The first box is smaller than the second one'\n",
    "            print(k)\n",
    "    else:\n",
    "        if (r <= t2):\n",
    "            if (t <= e2):\n",
    "                k = 'The first box is smaller than the second one'\n",
    "                print(k)\n",
    "if (e <= t2) and (k == 0):\n",
    "    if (r <= r2):\n",
    "        if (t <= e2):\n",
    "            k = 'The first box is smaller than the second one'\n",
    "            print(k)\n",
    "    else:\n",
    "        if (r <= e2):\n",
    "            if (t <= r2):\n",
    "                k = 'The first box is smaller than the second one'\n",
    "                print(k)\n",
    "if (e >= e2) and (k == '0'):\n",
    "    if (r >= r2):\n",
    "        if (t >= t2):\n",
    "            k = 'The first box is larger than the second one'\n",
    "            print(k)\n",
    "    else:\n",
    "        if (r >= t2):\n",
    "            if (t >= r2):\n",
    "                k = 'The first box is larger than the second one'\n",
    "                print(k)\n",
    "if (e >= r2) and (k == '0'):\n",
    "    if (r >= e2):\n",
    "        if (t >= t2):\n",
    "            k = 'The first box is larger than the second one'\n",
    "            print(k)\n",
    "    else:\n",
    "        if (r >= t2):\n",
    "            if (t >= e2):\n",
    "                k = 'The first box is larger than the second one'\n",
    "                print(k)\n",
    "if (e >= t2) and (k == 0):\n",
    "    if (r >= r2):\n",
    "        if (t >= e2):\n",
    "            k = 'The first box is larger than the second one'\n",
    "            print(k)\n",
    "    else:\n",
    "        if (r >= e2):\n",
    "            if (t >= r2):\n",
    "                k = 'The first box is larger than the second one'\n",
    "                print(k)\n",
    "if (k == '0'):\n",
    "    print('Boxes are incomparable')\n"
   ]
  },
  {
   "cell_type": "markdown",
   "metadata": {},
   "source": [
    "## Задача 19"
   ]
  },
  {
   "cell_type": "code",
   "execution_count": 5,
   "metadata": {},
   "outputs": [
    {
     "name": "stdout",
     "output_type": "stream",
     "text": [
      "100\n",
      "200\n",
      "300\n",
      "1\n",
      "2\n",
      "3\n",
      "1000000\n"
     ]
    }
   ],
   "source": [
    "a, b, c = int(input()), int(input()), int(input())\n",
    "q, w, e = int(input()), int(input()), int(input())\n",
    "z = 0\n",
    "help = 0\n",
    "help = (a // q) * (b // w) * (c // e)\n",
    "if help > z:\n",
    "    z = help\n",
    "    help = (a // q) * (b // e) * (c // w)\n",
    "    if help > z:\n",
    "        z = help\n",
    "    help = (a // w) * (b // q) * (c // e)\n",
    "    if help > z:\n",
    "        z = help\n",
    "    help = (a // w) * (b // e) * (c // q)\n",
    "    if help > z:\n",
    "       z = help\n",
    "    help = (a // e) * (b // q) * (c // w)\n",
    "    if help > z:\n",
    "        z = help\n",
    "    help = (a // e) * (b // w) * (c // q)\n",
    "    if help > z:\n",
    "        z = help\n",
    "print(z)"
   ]
  },
  {
   "cell_type": "markdown",
   "metadata": {},
   "source": [
    "## Задача 20"
   ]
  },
  {
   "cell_type": "code",
   "execution_count": 6,
   "metadata": {},
   "outputs": [
    {
     "name": "stdout",
     "output_type": "stream",
     "text": [
      "45\n",
      "YES\n"
     ]
    }
   ],
   "source": [
    "n = int(input())\n",
    "print(\"NO\" if n < 3 or n == 4 or n == 7 else \"YES\")"
   ]
  },
  {
   "cell_type": "markdown",
   "metadata": {},
   "source": [
    "## Задача 21"
   ]
  },
  {
   "cell_type": "code",
   "execution_count": 8,
   "metadata": {
    "scrolled": true
   },
   "outputs": [
    {
     "name": "stdout",
     "output_type": "stream",
     "text": [
      "2\n",
      "2\n",
      "8\n",
      "8\n",
      "NO\n"
     ]
    }
   ],
   "source": [
    "a, b, c, d = int(input()), int(input()), int(input()), int(input())\n",
    "if a == 0 and b == 0:\n",
    "    print('INF')\n",
    "elif a == 0 or b * c == a * d:\n",
    "    print('NO')\n",
    "elif b % a == 0:\n",
    "    x = -b // a\n",
    "    print(x)\n",
    "else:\n",
    "    print('NO')"
   ]
  },
  {
   "cell_type": "markdown",
   "metadata": {},
   "source": [
    "## Задача 22"
   ]
  },
  {
   "cell_type": "code",
   "execution_count": 10,
   "metadata": {},
   "outputs": [
    {
     "name": "stdout",
     "output_type": "stream",
     "text": [
      "4\n",
      "5\n",
      "6\n",
      "15\n"
     ]
    }
   ],
   "source": [
    "k = int(input()) \n",
    "m = int(input()) \n",
    "n = int(input()) \n",
    "if n<=k:  \n",
    "    t = 2*m \n",
    "elif n*2 % k==0:   \n",
    "    t = m*(n*2 // k) \n",
    "else:   \n",
    "    t = m*(1+(n*2 // k)) \n",
    "print(t)"
   ]
  },
  {
   "cell_type": "markdown",
   "metadata": {},
   "source": [
    "## Задача 23"
   ]
  },
  {
   "cell_type": "code",
   "execution_count": 11,
   "metadata": {},
   "outputs": [
    {
     "name": "stdout",
     "output_type": "stream",
     "text": [
      "1\n",
      "5\n",
      "6\n",
      "7\n",
      "8\n",
      "1\n",
      "-1\n"
     ]
    }
   ],
   "source": [
    "l1 = int(input())\n",
    "r1 = int(input())\n",
    "l2 = int(input())\n",
    "r2 = int(input())\n",
    "l3 = int(input())\n",
    "r3 = int(input())\n",
    " \n",
    "if (l1 >= 0) and (l1 < r1) and (r1 <= 100) and \\\n",
    "        (l2 >= 0) and (l2 < r2) and (r2 <= 100) and \\\n",
    "        (l3 >= 0) and (l3 < r3) and (r3 <= 100):\n",
    "    if ((l2 - r1) <= 1) and ((l3-r2) > 1) and (l1 < l2) and \\\n",
    "            (l2 < r3) and (l1 < r3):\n",
    "        print(3)\n",
    "    elif ((l2-r1) > 1) and ((l3-r2) > 1) and (l2-r1) <= (r3-l3):\n",
    "        print(3)\n",
    "    elif ((l2-r1) > 1) and ((l3-r2) <= 1):\n",
    "        print(1)\n",
    "    elif ((l2-r1) <= 1) and (((l3-r2) <= 1) or ((l3-r1) <= 1)):\n",
    "        print(0)\n",
    "    else:\n",
    "        print(-1)\n",
    "else:\n",
    "    print(-1)"
   ]
  },
  {
   "cell_type": "markdown",
   "metadata": {},
   "source": [
    "## Задача 24"
   ]
  },
  {
   "cell_type": "code",
   "execution_count": 1,
   "metadata": {},
   "outputs": [
    {
     "name": "stdout",
     "output_type": "stream",
     "text": [
      "5\n",
      "4\n",
      "3\n",
      "2\n",
      "1\n",
      "2\n",
      "1\n",
      "3\n",
      "4\n",
      "NO\n"
     ]
    }
   ],
   "source": [
    "l1 = int(input())\n",
    "w1 = int(input())\n",
    "h1 = int(input())\n",
    "l2 = int(input())\n",
    "w2 = int(input())\n",
    "h2 = int(input())\n",
    "lc = int(input())\n",
    "wc = int(input())\n",
    "hc = int(input())\n",
    "if (h1 > hc) or (h2 > hc):\n",
    "    print('NO')\n",
    "elif (l1 + l2 <= lc) or (l1 + l2 <= wc) or (l1 + w2 <= lc) or (l1 + w2 <= wc) or (w1 + l2 <= lc) or (w1 + l2 <= wc) or (w1 + w2 <= lc) or (w1 + w2 <= wc):\n",
    "    print('YES')\n",
    "else:\n",
    "    print('NO')\n"
   ]
  },
  {
   "cell_type": "code",
   "execution_count": null,
   "metadata": {},
   "outputs": [],
   "source": []
  }
 ],
 "metadata": {
  "kernelspec": {
   "display_name": "Python 3",
   "language": "python",
   "name": "python3"
  },
  "language_info": {
   "codemirror_mode": {
    "name": "ipython",
    "version": 3
   },
   "file_extension": ".py",
   "mimetype": "text/x-python",
   "name": "python",
   "nbconvert_exporter": "python",
   "pygments_lexer": "ipython3",
   "version": "3.7.4"
  }
 },
 "nbformat": 4,
 "nbformat_minor": 4
}
