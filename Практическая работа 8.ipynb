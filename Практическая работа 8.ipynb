{
 "cells": [
  {
   "cell_type": "markdown",
   "metadata": {},
   "source": [
    "# Практическая работа 8"
   ]
  },
  {
   "cell_type": "markdown",
   "metadata": {},
   "source": [
    "## Задача 1"
   ]
  },
  {
   "cell_type": "code",
   "execution_count": 1,
   "metadata": {},
   "outputs": [
    {
     "name": "stdout",
     "output_type": "stream",
     "text": [
      "3\n",
      "14\n"
     ]
    }
   ],
   "source": [
    "def count(n, sum, i):\n",
    "    sum = sum + i**2\n",
    "    i += 1\n",
    "    n -= 1\n",
    "    if n == 0:\n",
    "        return sum\n",
    "    else:\n",
    "        count(n, sum, i)\n",
    "    return count(n, sum, i)\n",
    "n = int(input())\n",
    "print(count(n, 0, 1))"
   ]
  },
  {
   "cell_type": "markdown",
   "metadata": {},
   "source": [
    "## Задача 2"
   ]
  },
  {
   "cell_type": "code",
   "execution_count": 2,
   "metadata": {},
   "outputs": [
    {
     "name": "stdout",
     "output_type": "stream",
     "text": [
      "5\n",
      "+__ +__ +__ +__ +__ \n",
      "|1/ |2/ |3/ |4/ |5/ \n",
      "|_\\ |_\\ |_\\ |_\\ |_\\ \n",
      "|   |   |   |   |   \n"
     ]
    }
   ],
   "source": [
    "n = int(input())\n",
    "for i in range(4):\n",
    "    for j in range(n):\n",
    "        if i + 1 == 1:\n",
    "            if j + 1 == n:\n",
    "                print('+__ ')\n",
    "            else:\n",
    "                print('+__ ', end='')\n",
    "        elif i + 1 == 2:\n",
    "            if j + 1 == n:\n",
    "                print('|', j + 1, '/ ', sep='')\n",
    "            else:\n",
    "                print('|', j + 1, '/ ', sep='', end='')\n",
    "        elif i + 1 == 3:\n",
    "            if j + 1 == n:\n",
    "                print('|_\\ ')\n",
    "            else:\n",
    "                print('|_\\ ', end='')\n",
    "        else:\n",
    "            if j + 1==n:\n",
    "                print('|   ')\n",
    "            else:\n",
    "                print('|   ', end='')"
   ]
  },
  {
   "cell_type": "markdown",
   "metadata": {},
   "source": [
    "## Задача 3"
   ]
  },
  {
   "cell_type": "code",
   "execution_count": 6,
   "metadata": {},
   "outputs": [
    {
     "name": "stdout",
     "output_type": "stream",
     "text": [
      "1 234 4132 4132 231 4\n",
      "4 231 4132 4132 234 1 "
     ]
    }
   ],
   "source": [
    "Q = []\n",
    "z = input()\n",
    "i = 0\n",
    "w = 0\n",
    "while i < len(z):\n",
    "    if z[i] == ' ':\n",
    "        Q.append(int(z[0:i]))\n",
    "        z = z[i+1:len(z)]\n",
    "        i = 0\n",
    "    if i == len(z) - 1:\n",
    "        Q.append(int(z))\n",
    "    i += 1\n",
    "# print(Q)\n",
    "for i in range(len(Q)):\n",
    "    print(Q[len(Q) - 1 - i], end=' ')"
   ]
  },
  {
   "cell_type": "markdown",
   "metadata": {},
   "source": [
    "## Задача 4"
   ]
  },
  {
   "cell_type": "code",
   "execution_count": 7,
   "metadata": {},
   "outputs": [
    {
     "name": "stdout",
     "output_type": "stream",
     "text": [
      "15 163 516 315 6351 63\n",
      "2\n",
      "[15, 163, 315, 6351, 63]\n"
     ]
    }
   ],
   "source": [
    "Q = []\n",
    "z = input()\n",
    "k = int(input())\n",
    "i = 0\n",
    "w = 0\n",
    "while i < len(z):\n",
    "    if z[i] == ' ':\n",
    "        Q.append(int(z[0:i]))\n",
    "        z = z[i+1:len(z)]\n",
    "        i = 0\n",
    "    if i == len(z) - 1:\n",
    "        Q.append(int(z))\n",
    "    i += 1\n",
    "Q.pop(k)\n",
    "print(Q)"
   ]
  },
  {
   "cell_type": "markdown",
   "metadata": {},
   "source": [
    "## Задача 5"
   ]
  },
  {
   "cell_type": "code",
   "execution_count": 14,
   "metadata": {},
   "outputs": [
    {
     "name": "stdout",
     "output_type": "stream",
     "text": [
      "2134 4321 435 765 78\n",
      "[4321, 2134, 765, 435, 78]\n"
     ]
    }
   ],
   "source": [
    "Q = []\n",
    "z = input()\n",
    "i = 0\n",
    "w = 0\n",
    "while i < len(z):\n",
    "    if z[i] == ' ':\n",
    "        Q.append(int(z[0:i]))\n",
    "        z = z[i+1:len(z)]\n",
    "        i = 0\n",
    "    if i == len(z) - 1:\n",
    "        Q.append(int(z))\n",
    "    i += 1\n",
    "i = 0\n",
    "if len(Q) % 2 == 0:\n",
    "    while i < len(Q):\n",
    "        suck = Q[i + 1]\n",
    "        Q[i + 1] = Q[i]\n",
    "        Q[i] = suck\n",
    "        i += 2\n",
    "else:\n",
    "    while i < len(Q) - 1:\n",
    "        suck = Q[i + 1]\n",
    "        Q[i + 1] = Q[i]\n",
    "        Q[i] = suck\n",
    "        i += 2\n",
    "print(Q)"
   ]
  },
  {
   "cell_type": "markdown",
   "metadata": {},
   "source": [
    "## Задача 6"
   ]
  },
  {
   "cell_type": "code",
   "execution_count": 9,
   "metadata": {},
   "outputs": [
    {
     "name": "stdout",
     "output_type": "stream",
     "text": [
      "1 0 3 0 4 0 5\n",
      "[1, 3, 4, 5, 0, 0, 0]\n"
     ]
    }
   ],
   "source": [
    "Q = []\n",
    "z = input()\n",
    "i = 0\n",
    "w = 0\n",
    "while i < len(z):\n",
    "    if z[i] == ' ':\n",
    "        Q.append(int(z[0:i]))\n",
    "        z = z[i+1:len(z)]\n",
    "        i = 0\n",
    "    if i == len(z) - 1:\n",
    "        Q.append(int(z))\n",
    "    i += 1\n",
    "i = 0\n",
    "a = 0\n",
    "while i < len(Q):\n",
    "    if Q[i] == 0:\n",
    "        Q.pop(i)\n",
    "        a += 1\n",
    "        i -= 1\n",
    "    i += 1\n",
    "i = 0\n",
    "for i in range(a):\n",
    "    Q.append(0)\n",
    "print(Q)"
   ]
  },
  {
   "cell_type": "markdown",
   "metadata": {},
   "source": [
    "## Задача 7"
   ]
  },
  {
   "cell_type": "code",
   "execution_count": 10,
   "metadata": {},
   "outputs": [
    {
     "name": "stdout",
     "output_type": "stream",
     "text": [
      "5\n",
      "3\n",
      "4\n",
      "8\n",
      "2\n",
      "4\n",
      "[2, 3, 4, 4, 8]\n"
     ]
    }
   ],
   "source": [
    "N = int(input())\n",
    "Q = []\n",
    "for i in range(N):\n",
    "    Q.append(int(input()))\n",
    "Q.sort()\n",
    "print(Q)"
   ]
  },
  {
   "cell_type": "markdown",
   "metadata": {},
   "source": [
    "## Задача 8"
   ]
  },
  {
   "cell_type": "code",
   "execution_count": 16,
   "metadata": {},
   "outputs": [
    {
     "name": "stdout",
     "output_type": "stream",
     "text": [
      "300 5\n",
      "50\n",
      "60\n",
      "70\n",
      "80\n",
      "90\n",
      "4\n"
     ]
    }
   ],
   "source": [
    "Q = []\n",
    "A = []\n",
    "z = input()\n",
    "i = 0\n",
    "w = 0\n",
    "while i < len(z):\n",
    "    if z[i] == ' ':\n",
    "        Q.append(int(z[0:i]))\n",
    "        z = z[i+1:len(z)]\n",
    "        i = 0\n",
    "    if i == len(z) - 1:\n",
    "        Q.append(int(z))\n",
    "    i += 1\n",
    "for i in range(Q[1]):\n",
    "    A.append(int(input()))\n",
    "A.sort()\n",
    "k = 0\n",
    "for i in range(len(A)):\n",
    "    if w == Q[1] or w + A[i] > Q[0]:\n",
    "        break\n",
    "    else:\n",
    "        w += A[i]\n",
    "        k += 1\n",
    "print(k)"
   ]
  },
  {
   "cell_type": "markdown",
   "metadata": {},
   "source": [
    "## Задача 9"
   ]
  },
  {
   "cell_type": "code",
   "execution_count": 17,
   "metadata": {},
   "outputs": [
    {
     "name": "stdout",
     "output_type": "stream",
     "text": [
      "5\n",
      "1 50 3 4 3\n",
      "16\n",
      "1 2 3 4 5 1 3 3 4 5 5 5 5 5 4 5\n",
      "YES\n",
      "NO\n",
      "NO\n",
      "NO\n",
      "YES\n"
     ]
    }
   ],
   "source": [
    "n = int(input())\n",
    "z = input()\n",
    "Q = []\n",
    "A = []\n",
    "i = 0\n",
    "while i < len(z):\n",
    "    if z[i] == ' ':\n",
    "        Q.append(int(z[0:i]))\n",
    "        z = z[i+1:len(z)]\n",
    "        i = 0\n",
    "    if i == len(z) - 1:\n",
    "        Q.append(int(z))\n",
    "    i += 1\n",
    "if len(Q) != n:\n",
    "    exit('Введено неверное количество элементов')\n",
    "i = 0\n",
    "k = int(input())\n",
    "z = ''\n",
    "z = input()\n",
    "while i < len(z):\n",
    "    if z[i] == ' ':\n",
    "        A.append(int(z[0:i]))\n",
    "        z = z[i+1:len(z)]\n",
    "        i = 0\n",
    "    if i == len(z) - 1:\n",
    "        A.append(int(z))\n",
    "    i += 1\n",
    "if len(A) != k:\n",
    "    exit('Введено неверное количество элементов')\n",
    "for i in range(k):\n",
    "    Q[A[i] - 1] -= A[i] // A[i]\n",
    "for i in range(n):\n",
    "    if Q[i] < 0:\n",
    "        print('YES')\n",
    "    else:\n",
    "        print('NO')"
   ]
  },
  {
   "cell_type": "markdown",
   "metadata": {},
   "source": [
    "## Задача 10"
   ]
  },
  {
   "cell_type": "code",
   "execution_count": 18,
   "metadata": {},
   "outputs": [
    {
     "name": "stdout",
     "output_type": "stream",
     "text": [
      "2 3 5 4 8 6 4 6 45 5 4 6614 694 16 516 51 651\n",
      "[2, 3, 4, 4, 4, 5, 5, 6, 6, 8, 16, 45, 51, 516, 651, 694, 6614]\n"
     ]
    }
   ],
   "source": [
    "def CountSort(Q):\n",
    "    for i in range(len(Q)):\n",
    "        for j in range(len(Q)):\n",
    "            if Q[j] > Q[i]:\n",
    "                z = Q[j]\n",
    "                Q[j] = Q[i]\n",
    "                Q[i] = z\n",
    "    return Q\n",
    "Q = []\n",
    "z = input()\n",
    "i = 0\n",
    "while i < len(z):\n",
    "    if z[i] == ' ':\n",
    "        Q.append(int(z[0:i]))\n",
    "        z = z[i+1:len(z)]\n",
    "        i = 0\n",
    "    if i == len(z) - 1:\n",
    "        Q.append(int(z))\n",
    "    i += 1\n",
    "print(CountSort(Q))"
   ]
  },
  {
   "cell_type": "markdown",
   "metadata": {},
   "source": [
    "## Задача 11"
   ]
  },
  {
   "cell_type": "code",
   "execution_count": 20,
   "metadata": {},
   "outputs": [
    {
     "name": "stdout",
     "output_type": "stream",
     "text": [
      "3\n",
      "Ivanov 15\n",
      "Petrov 10\n",
      "Sidorov 20\n",
      "Sidorov\n",
      "Ivanov\n",
      "Petrov\n"
     ]
    }
   ],
   "source": [
    "def CountSort(A, Q):\n",
    "    for i in range(len(Q)):\n",
    "        for j in range(len(Q)):\n",
    "            if A[j] < A[i]:\n",
    "                z = A[j]\n",
    "                A[j] = A[i]\n",
    "                A[i] = z\n",
    "                z = Q[j]\n",
    "                Q[j] = Q[i]\n",
    "                Q[i] = z\n",
    "    return Q\n",
    "Q = []\n",
    "A = []\n",
    "N = int(input())\n",
    "for i in range(N):\n",
    "    z = input()\n",
    "    for j in range(len(z)):\n",
    "        if z[j] == ' ':\n",
    "            Q.append(z[0:j])\n",
    "            z = z[j + 1:len(z)]\n",
    "            A.append(int(z))\n",
    "            break\n",
    "Q = CountSort(A, Q)\n",
    "for i in range(len(Q)):\n",
    "    print(Q[i])"
   ]
  },
  {
   "cell_type": "markdown",
   "metadata": {},
   "source": [
    "## Задача 12"
   ]
  },
  {
   "cell_type": "code",
   "execution_count": 21,
   "metadata": {},
   "outputs": [
    {
     "name": "stdout",
     "output_type": "stream",
     "text": [
      "10 20 30\n",
      "50 20 30\n",
      "1700\n"
     ]
    }
   ],
   "source": [
    "def CountSort(Q, e):\n",
    "    if e == 0:\n",
    "        for i in range(len(Q)):\n",
    "            for j in range(len(Q)):\n",
    "                if Q[j] > Q[i]:\n",
    "                    z = Q[j]\n",
    "                    Q[j] = Q[i]\n",
    "                    Q[i] = z\n",
    "        return Q\n",
    "    else:\n",
    "        for i in range(len(Q)):\n",
    "            for j in range(len(Q)):\n",
    "                if Q[j] < Q[i]:\n",
    "                    z = Q[j]\n",
    "                    Q[j] = Q[i]\n",
    "                    Q[i] = z\n",
    "        return Q\n",
    "Q = []\n",
    "A = []\n",
    "z = input()\n",
    "i = 0\n",
    "while i < len(z):\n",
    "    if z[i] == ' ':\n",
    "        Q.append(int(z[0:i]))\n",
    "        z = z[i+1:len(z)]\n",
    "        i = 0\n",
    "    if i == len(z) - 1:\n",
    "        Q.append(int(z))\n",
    "    i += 1\n",
    "i = 0\n",
    "z = input()\n",
    "while i < len(z):\n",
    "    if z[i] == ' ':\n",
    "        A.append(int(z[0:i]))\n",
    "        z = z[i+1:len(z)]\n",
    "        i = 0\n",
    "    if i == len(z) - 1:\n",
    "        A.append(int(z))\n",
    "    i += 1\n",
    "if len(Q) != len(A):\n",
    "    exit('Тарифов должно быть столько же, сколько сотрудников')\n",
    "Q = CountSort(Q, 0)\n",
    "A = CountSort(A, 1)\n",
    "sum = 0\n",
    "for i in range(len(Q)):\n",
    "    sum += Q[i] * A[i]\n",
    "print(sum)"
   ]
  },
  {
   "cell_type": "markdown",
   "metadata": {},
   "source": [
    "## Задача 13"
   ]
  },
  {
   "cell_type": "code",
   "execution_count": 29,
   "metadata": {
    "scrolled": true
   },
   "outputs": [
    {
     "name": "stdout",
     "output_type": "stream",
     "text": [
      "8(495)430-23-97\n",
      "+7-4-9-5-43-023-97\n",
      "4-3-0-2-3-9-7\n",
      "8-495-430\n",
      "YES\n",
      "YES\n",
      "NO\n"
     ]
    }
   ],
   "source": [
    "Q = []\n",
    "for e in range(4):\n",
    "    z = input()\n",
    "    if len(z) == 7:\n",
    "        z = '495' + z\n",
    "    else:\n",
    "        i = 0\n",
    "        while i < len(z):\n",
    "            if z[i]=='+':\n",
    "                z = z[i + 1:len(z)]\n",
    "                i -= 1\n",
    "            if z[i]=='(' or z[i]==')' or z[i] == '-':\n",
    "                z = z[0:i] + z[i + 1:len(z)]\n",
    "                i -= 1\n",
    "            if len(z) == 7:\n",
    "                z = '495' + z\n",
    "            i += 1\n",
    "        if len(z) != 10:\n",
    "            z = z[1:len(z)]\n",
    "    Q.append(int(z))\n",
    "for e in range(1, 4):\n",
    "    if Q[0] == Q[e]:\n",
    "        print('YES')\n",
    "    else:\n",
    "        print('NO')"
   ]
  },
  {
   "cell_type": "markdown",
   "metadata": {},
   "source": [
    "## Задача 14"
   ]
  },
  {
   "cell_type": "code",
   "execution_count": 31,
   "metadata": {},
   "outputs": [
    {
     "name": "stdout",
     "output_type": "stream",
     "text": [
      "2\n",
      "Russia Moscow Petersburg Novgorod Kaluga\n",
      "Ukraine Kiev Donetsk Odessa\n",
      "3\n",
      "Odessa\n",
      "Moscow\n",
      "Novgorod\n",
      "\n",
      "Ukraine\n",
      "Russia\n",
      "Russia\n"
     ]
    }
   ],
   "source": [
    "Q = []\n",
    "A = []\n",
    "N = int(input())\n",
    "for i in range(N):\n",
    "    z = input()\n",
    "    j = 0\n",
    "    Q = []\n",
    "    while j < len(z):\n",
    "        if z[j] == ' ':\n",
    "            Q.append(z[0:j])\n",
    "            z = z[j + 1:len(z)]\n",
    "            j = 0\n",
    "            continue\n",
    "        elif j == len(z) - 1:\n",
    "            Q.append(z)\n",
    "        j += 1\n",
    "    A.append(Q)\n",
    "Q = []\n",
    "M = int(input())\n",
    "for i in range(M):\n",
    "    z = input()\n",
    "    Q.append(z)\n",
    "print()\n",
    "for i in range(M):\n",
    "    for j in range(N):\n",
    "        for k in range(len((A[j]))):\n",
    "            if Q[i] == (A[j])[k]:\n",
    "                print((A[j])[0])\n",
    "                break"
   ]
  },
  {
   "cell_type": "markdown",
   "metadata": {},
   "source": [
    "## Задача 15"
   ]
  },
  {
   "cell_type": "code",
   "execution_count": 32,
   "metadata": {},
   "outputs": [
    {
     "name": "stdout",
     "output_type": "stream",
     "text": [
      "apple orange banana banana orange\n"
     ]
    },
    {
     "data": {
      "text/plain": [
       "'banana'"
      ]
     },
     "execution_count": 32,
     "metadata": {},
     "output_type": "execute_result"
    }
   ],
   "source": [
    "def most_common(t):\n",
    "    return sorted(((x, t.count(x)) for x in set(t.split())), key=lambda x: (-x[1], x[0]))[0][0]\n",
    "most_common(input())"
   ]
  },
  {
   "cell_type": "markdown",
   "metadata": {},
   "source": [
    "## Задача 16"
   ]
  },
  {
   "cell_type": "code",
   "execution_count": 34,
   "metadata": {},
   "outputs": [
    {
     "name": "stdout",
     "output_type": "stream",
     "text": [
      "hi hi what is your name my name is bond james bond my name is damme van damme claude van damme jean claude van damme\n",
      "['damme', 'is', 'name', 'van', 'bond', 'claude', 'hi', 'my', 'james', 'jean', 'what', 'your']\n"
     ]
    }
   ],
   "source": [
    "s = input()\n",
    "lst = [word for line in s.split('\\n') for word in line.split()]\n",
    "print(sorted(set(lst), key=lambda x: (-lst.count(x), x)))"
   ]
  },
  {
   "cell_type": "markdown",
   "metadata": {},
   "source": [
    "## Задача 17"
   ]
  },
  {
   "cell_type": "code",
   "execution_count": 36,
   "metadata": {},
   "outputs": [
    {
     "name": "stdout",
     "output_type": "stream",
     "text": [
      "DEPOSIT Ivanov 100\n",
      "INCOME 5\n",
      "BALANCE Ivanov\n",
      "105\n",
      "TRANSFER Ivanov Petrov 50\n",
      "WITHDRAW Petrov 100\n",
      "BALANCE Petrov\n",
      "-50\n",
      "BALANCE Sidorov\n",
      "ERROR\n"
     ]
    },
    {
     "ename": "KeyboardInterrupt",
     "evalue": "Interrupted by user",
     "output_type": "error",
     "traceback": [
      "\u001b[1;31m---------------------------------------------------------------------------\u001b[0m",
      "\u001b[1;31mKeyboardInterrupt\u001b[0m                         Traceback (most recent call last)",
      "\u001b[1;32m<ipython-input-36-70440dd4b35b>\u001b[0m in \u001b[0;36m<module>\u001b[1;34m\u001b[0m\n\u001b[0;32m     30\u001b[0m }\n\u001b[0;32m     31\u001b[0m \u001b[1;32mwhile\u001b[0m \u001b[1;36m1\u001b[0m\u001b[1;33m:\u001b[0m\u001b[1;33m\u001b[0m\u001b[1;33m\u001b[0m\u001b[0m\n\u001b[1;32m---> 32\u001b[1;33m     \u001b[0mdata\u001b[0m \u001b[1;33m=\u001b[0m \u001b[0minput\u001b[0m\u001b[1;33m(\u001b[0m\u001b[1;33m)\u001b[0m\u001b[1;33m.\u001b[0m\u001b[0msplit\u001b[0m\u001b[1;33m(\u001b[0m\u001b[1;33m)\u001b[0m\u001b[1;33m\u001b[0m\u001b[1;33m\u001b[0m\u001b[0m\n\u001b[0m\u001b[0;32m     33\u001b[0m     \u001b[0mfun_name\u001b[0m \u001b[1;33m=\u001b[0m \u001b[0mdata\u001b[0m\u001b[1;33m[\u001b[0m\u001b[1;36m0\u001b[0m\u001b[1;33m]\u001b[0m\u001b[1;33m\u001b[0m\u001b[1;33m\u001b[0m\u001b[0m\n\u001b[0;32m     34\u001b[0m     \u001b[0marg\u001b[0m \u001b[1;33m=\u001b[0m \u001b[0mdata\u001b[0m\u001b[1;33m[\u001b[0m\u001b[1;36m1\u001b[0m\u001b[1;33m:\u001b[0m\u001b[1;33m]\u001b[0m\u001b[1;33m\u001b[0m\u001b[1;33m\u001b[0m\u001b[0m\n",
      "\u001b[1;32mc:\\users\\анотн вилачёв\\appdata\\local\\programs\\python\\python37-32\\lib\\site-packages\\ipykernel\\kernelbase.py\u001b[0m in \u001b[0;36mraw_input\u001b[1;34m(self, prompt)\u001b[0m\n\u001b[0;32m    861\u001b[0m             \u001b[0mself\u001b[0m\u001b[1;33m.\u001b[0m\u001b[0m_parent_ident\u001b[0m\u001b[1;33m,\u001b[0m\u001b[1;33m\u001b[0m\u001b[1;33m\u001b[0m\u001b[0m\n\u001b[0;32m    862\u001b[0m             \u001b[0mself\u001b[0m\u001b[1;33m.\u001b[0m\u001b[0m_parent_header\u001b[0m\u001b[1;33m,\u001b[0m\u001b[1;33m\u001b[0m\u001b[1;33m\u001b[0m\u001b[0m\n\u001b[1;32m--> 863\u001b[1;33m             \u001b[0mpassword\u001b[0m\u001b[1;33m=\u001b[0m\u001b[1;32mFalse\u001b[0m\u001b[1;33m,\u001b[0m\u001b[1;33m\u001b[0m\u001b[1;33m\u001b[0m\u001b[0m\n\u001b[0m\u001b[0;32m    864\u001b[0m         )\n\u001b[0;32m    865\u001b[0m \u001b[1;33m\u001b[0m\u001b[0m\n",
      "\u001b[1;32mc:\\users\\анотн вилачёв\\appdata\\local\\programs\\python\\python37-32\\lib\\site-packages\\ipykernel\\kernelbase.py\u001b[0m in \u001b[0;36m_input_request\u001b[1;34m(self, prompt, ident, parent, password)\u001b[0m\n\u001b[0;32m    902\u001b[0m             \u001b[1;32mexcept\u001b[0m \u001b[0mKeyboardInterrupt\u001b[0m\u001b[1;33m:\u001b[0m\u001b[1;33m\u001b[0m\u001b[1;33m\u001b[0m\u001b[0m\n\u001b[0;32m    903\u001b[0m                 \u001b[1;31m# re-raise KeyboardInterrupt, to truncate traceback\u001b[0m\u001b[1;33m\u001b[0m\u001b[1;33m\u001b[0m\u001b[1;33m\u001b[0m\u001b[0m\n\u001b[1;32m--> 904\u001b[1;33m                 \u001b[1;32mraise\u001b[0m \u001b[0mKeyboardInterrupt\u001b[0m\u001b[1;33m(\u001b[0m\u001b[1;34m\"Interrupted by user\"\u001b[0m\u001b[1;33m)\u001b[0m \u001b[1;32mfrom\u001b[0m \u001b[1;32mNone\u001b[0m\u001b[1;33m\u001b[0m\u001b[1;33m\u001b[0m\u001b[0m\n\u001b[0m\u001b[0;32m    905\u001b[0m             \u001b[1;32mexcept\u001b[0m \u001b[0mException\u001b[0m \u001b[1;32mas\u001b[0m \u001b[0me\u001b[0m\u001b[1;33m:\u001b[0m\u001b[1;33m\u001b[0m\u001b[1;33m\u001b[0m\u001b[0m\n\u001b[0;32m    906\u001b[0m                 \u001b[0mself\u001b[0m\u001b[1;33m.\u001b[0m\u001b[0mlog\u001b[0m\u001b[1;33m.\u001b[0m\u001b[0mwarning\u001b[0m\u001b[1;33m(\u001b[0m\u001b[1;34m\"Invalid Message:\"\u001b[0m\u001b[1;33m,\u001b[0m \u001b[0mexc_info\u001b[0m\u001b[1;33m=\u001b[0m\u001b[1;32mTrue\u001b[0m\u001b[1;33m)\u001b[0m\u001b[1;33m\u001b[0m\u001b[1;33m\u001b[0m\u001b[0m\n",
      "\u001b[1;31mKeyboardInterrupt\u001b[0m: Interrupted by user"
     ]
    }
   ],
   "source": [
    "def deposit(arg):\n",
    "    name, money = arg\n",
    "    bank[name] = bank.setdefault(name, 0) + int(money)\n",
    "def withdraw(arg):\n",
    "    name, money = arg\n",
    "    bank[name] = bank.setdefault(name, 0) - int(money)\n",
    "def balance(arg):\n",
    "    name = arg[0]\n",
    "    if name in bank:\n",
    "        print(bank[name])\n",
    "    else:\n",
    "        print('ERROR')\n",
    "def transfer(arg):\n",
    "    name_1, name_2, money = arg\n",
    "    for name in (name_1, name_2):\n",
    "        if name not in bank:\n",
    "            deposit((name,0))        \n",
    "    withdraw((name_1, money))\n",
    "    deposit((name_2, money))\n",
    "def income(arg):\n",
    "    percent = int(arg[0])\n",
    "    for name, balanse in bank.items():\n",
    "        if balanse > 0:\n",
    "            bank[name] = bank.get(name) + balanse * percent//100\n",
    "bank = {}\n",
    "bank_fun = {\n",
    "'DEPOSIT' : deposit, 'WITHDRAW' : withdraw,\n",
    "'BALANCE' : balance, 'TRANSFER' : transfer,\n",
    "'INCOME' : income\n",
    "}\n",
    "while 1:\n",
    "    data = input().split()\n",
    "    fun_name = data[0]\n",
    "    arg = data[1:]\n",
    "    bank_fun[fun_name](arg)"
   ]
  },
  {
   "cell_type": "markdown",
   "metadata": {},
   "source": [
    "## Задача 18"
   ]
  },
  {
   "cell_type": "code",
   "execution_count": 37,
   "metadata": {},
   "outputs": [
    {
     "name": "stdout",
     "output_type": "stream",
     "text": [
      "9\n",
      "Alexei Peter_I\n",
      "Anna Peter_I\n",
      "Elizabeth Peter_I\n",
      "Peter_II Alexei\n",
      "Peter_III Anna\n",
      "Paul_I Peter_III\n",
      "Alexander_I Paul_I\n",
      "Nicholaus_I Paul_I\n",
      "Alexander_I 4\n",
      "Alexei 1\n",
      "Anna 1\n",
      "Elizabeth 1\n",
      "Nicholaus_I 4\n",
      "Paul_I 3\n",
      "Peter_I 0\n",
      "Peter_II 2\n",
      "Peter_III 2\n"
     ]
    }
   ],
   "source": [
    "def height(man):\n",
    "    if man not in p_tree:\n",
    "        return 0\n",
    "    else:\n",
    "        return 1 + height(p_tree[man])\n",
    "p_tree = {}\n",
    "n = int(input())\n",
    "for i in range(n - 1):\n",
    "    child, parent = input().split()\n",
    "    p_tree[child] = parent\n",
    "heights = {}\n",
    "for man in set(p_tree.keys()).union(set(p_tree.values())):\n",
    "    heights[man] = height(man)\n",
    "for key, value in sorted(heights.items()):\n",
    "    print(key, value)"
   ]
  },
  {
   "cell_type": "markdown",
   "metadata": {},
   "source": [
    "## Задача 19"
   ]
  },
  {
   "cell_type": "code",
   "execution_count": 38,
   "metadata": {},
   "outputs": [
    {
     "name": "stdout",
     "output_type": "stream",
     "text": [
      "1 2 3 2 1\n",
      "3\n"
     ]
    }
   ],
   "source": [
    "print(len(set(input().split())))"
   ]
  },
  {
   "cell_type": "markdown",
   "metadata": {},
   "source": [
    "## Задача 20"
   ]
  },
  {
   "cell_type": "code",
   "execution_count": 39,
   "metadata": {},
   "outputs": [
    {
     "name": "stdout",
     "output_type": "stream",
     "text": [
      "She sells sea shells on the sea shore; The shells that she sells are sea shells I'm sure. So if she sells sea shells on the sea shore, I'm sure that the shells are sea shore shells.\n",
      "19\n"
     ]
    }
   ],
   "source": [
    "iin_file = input()\n",
    "a = []\n",
    "for i in iin_file.split('\\n'):\n",
    "    a += i.split()\n",
    "print(len(set(a)))"
   ]
  },
  {
   "cell_type": "markdown",
   "metadata": {},
   "source": [
    "## Задача 21"
   ]
  },
  {
   "cell_type": "code",
   "execution_count": 40,
   "metadata": {},
   "outputs": [
    {
     "name": "stdout",
     "output_type": "stream",
     "text": [
      "0 0 1 1\n",
      "0 1 0 1\n",
      "0 1 1 0\n"
     ]
    }
   ],
   "source": [
    "a = input()\n",
    "b = input()\n",
    "c = ' '.join(map(lambda a, b : str(int(a != b)), a.split(), b.split()))\n",
    "print(c)"
   ]
  },
  {
   "cell_type": "markdown",
   "metadata": {},
   "source": [
    "## Задача 22"
   ]
  },
  {
   "cell_type": "code",
   "execution_count": 41,
   "metadata": {},
   "outputs": [
    {
     "name": "stdout",
     "output_type": "stream",
     "text": [
      "4\n",
      "1 1 2 6 24\n"
     ]
    }
   ],
   "source": [
    "from itertools import accumulate\n",
    "n = int(input())\n",
    "a = []\n",
    "for i in range(n+1):\n",
    "    a.append(i)\n",
    "a = map(lambda x: max(x,1), a)\n",
    "print(*accumulate(a, lambda x, y: x * y))"
   ]
  },
  {
   "cell_type": "markdown",
   "metadata": {},
   "source": [
    "## Задача 23"
   ]
  },
  {
   "cell_type": "code",
   "execution_count": 42,
   "metadata": {},
   "outputs": [
    {
     "name": "stdout",
     "output_type": "stream",
     "text": [
      "8\n",
      "[2, 3, 5, 7]\n"
     ]
    }
   ],
   "source": [
    "N = int(input())\n",
    "res = []\n",
    "for k in range(2, N+1):\n",
    " \n",
    "    prime = True\n",
    "    \n",
    "    for i in range(2, k):\n",
    "        if k%i == 0:\n",
    "            prime = False\n",
    "            break\n",
    " \n",
    "    if prime:\n",
    "        res.append(k)\n",
    "print(res)"
   ]
  },
  {
   "cell_type": "markdown",
   "metadata": {},
   "source": [
    "## Задача 24"
   ]
  },
  {
   "cell_type": "code",
   "execution_count": 43,
   "metadata": {},
   "outputs": [
    {
     "name": "stdout",
     "output_type": "stream",
     "text": [
      "3 2\n",
      "2 1 2 3\n",
      "1 2 3 2\n",
      "3 2 1\n"
     ]
    }
   ],
   "source": [
    "import itertools\n",
    "import functools\n",
    "print(*(tuple([[[0]]]) + tuple(*map(lambda data: filter(lambda x: tuple(x[0]) == x[1],\n",
    "        map(lambda var: (filter(lambda sta: ((var.index(sta[0]) >= var.index(sta[1])) ^ (var.index(sta[2]) >= var.index(sta[3]))), data[1]), data[1], var + data[2]), data[0])), map(lambda x: (itertools.permutations(set(functools.reduce(lambda x,y: x + y ,x[1]))), x[1], tuple(set(range(1, x[0] + 1)) - set(functools.reduce(lambda x,y: x + y ,x[1])))), map(lambda vvod: (next(vvod), tuple(set(map(lambda y: tuple(y), map(lambda x: map(int, input().split()), range(next(vvod))))))), [map(int, input().split())])))))[-1][-1])"
   ]
  },
  {
   "cell_type": "code",
   "execution_count": null,
   "metadata": {},
   "outputs": [],
   "source": []
  }
 ],
 "metadata": {
  "kernelspec": {
   "display_name": "Python 3",
   "language": "python",
   "name": "python3"
  },
  "language_info": {
   "codemirror_mode": {
    "name": "ipython",
    "version": 3
   },
   "file_extension": ".py",
   "mimetype": "text/x-python",
   "name": "python",
   "nbconvert_exporter": "python",
   "pygments_lexer": "ipython3",
   "version": "3.7.4"
  }
 },
 "nbformat": 4,
 "nbformat_minor": 4
}
