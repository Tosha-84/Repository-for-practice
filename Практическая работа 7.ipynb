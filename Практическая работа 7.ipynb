{
 "cells": [
  {
   "cell_type": "markdown",
   "metadata": {},
   "source": [
    "# Практическая работа 7"
   ]
  },
  {
   "cell_type": "markdown",
   "metadata": {},
   "source": [
    "## Задача 1"
   ]
  },
  {
   "cell_type": "code",
   "execution_count": 1,
   "metadata": {},
   "outputs": [
    {
     "name": "stdout",
     "output_type": "stream",
     "text": [
      "4\n",
      "2\n",
      "5\n",
      "9\n",
      "2\n"
     ]
    }
   ],
   "source": [
    "def min4(a, b, c, d):\n",
    "    print(min(min(min(a,b), c), d))\n",
    "a = int(input())\n",
    "b = int(input())\n",
    "c = int(input())\n",
    "d = int(input())\n",
    "min4(a, b, c, d)"
   ]
  },
  {
   "cell_type": "markdown",
   "metadata": {},
   "source": [
    "## Задача 2"
   ]
  },
  {
   "cell_type": "code",
   "execution_count": 2,
   "metadata": {},
   "outputs": [
    {
     "name": "stdout",
     "output_type": "stream",
     "text": [
      "3\n",
      "-2\n",
      "-1\n",
      "7\n",
      "9.848857801796104\n"
     ]
    }
   ],
   "source": [
    "from math import sqrt\n",
    "x1 = float(input())\n",
    "y1 = float(input())\n",
    "x2 = float(input())\n",
    "y2 = float(input())\n",
    "x1 = abs(x2 - x1)\n",
    "y1 = abs(y2 - y1)\n",
    "x1 = sqrt(x1**2 + y1**2)\n",
    "print(x1)"
   ]
  },
  {
   "cell_type": "markdown",
   "metadata": {},
   "source": [
    "## Задача 3"
   ]
  },
  {
   "cell_type": "code",
   "execution_count": 3,
   "metadata": {},
   "outputs": [
    {
     "name": "stdout",
     "output_type": "stream",
     "text": [
      "0\n",
      "0\n",
      "1\n",
      "0\n",
      "0\n",
      "1\n",
      "3.414213562373095\n"
     ]
    }
   ],
   "source": [
    "from math import sqrt\n",
    "P = 0\n",
    "x1 = float(input())\n",
    "y1 = float(input())\n",
    "x2 = float(input())\n",
    "y2 = float(input())\n",
    "x3 = float(input())\n",
    "y3 = float(input())\n",
    "x = abs(x2 - x1)\n",
    "y = abs(y2 - y1)\n",
    "P = P + sqrt(x**2 + y**2)\n",
    "x = abs(x3 - x1)\n",
    "y = abs(y3 - y1)\n",
    "P = P + sqrt(x**2 + y**2)\n",
    "x = abs(x3 - x2)\n",
    "y = abs(y3 - y2)\n",
    "P = P + sqrt(x**2 + y**2)\n",
    "print(P)"
   ]
  },
  {
   "cell_type": "markdown",
   "metadata": {},
   "source": [
    "## Задача 4"
   ]
  },
  {
   "cell_type": "code",
   "execution_count": 4,
   "metadata": {},
   "outputs": [
    {
     "name": "stdout",
     "output_type": "stream",
     "text": [
      "1\n",
      "1\n",
      "YES\n"
     ]
    }
   ],
   "source": [
    "x = float(input())\n",
    "y = float(input())\n",
    "if abs(x) > 1 or abs(y) > 1:\n",
    "    print('NO')\n",
    "else:\n",
    "    print('YES')"
   ]
  },
  {
   "cell_type": "markdown",
   "metadata": {},
   "source": [
    "## Задача 5"
   ]
  },
  {
   "cell_type": "code",
   "execution_count": 5,
   "metadata": {},
   "outputs": [
    {
     "name": "stdout",
     "output_type": "stream",
     "text": [
      "0.5\n",
      "0.5\n",
      "YES\n"
     ]
    }
   ],
   "source": [
    "x = float(input())\n",
    "y = float(input())\n",
    "if x**2 + y**2 > 1:\n",
    "    print('NO')\n",
    "else:\n",
    "    print('YES')"
   ]
  },
  {
   "cell_type": "markdown",
   "metadata": {},
   "source": [
    "## Задача 6"
   ]
  },
  {
   "cell_type": "code",
   "execution_count": 6,
   "metadata": {},
   "outputs": [
    {
     "name": "stdout",
     "output_type": "stream",
     "text": [
      "1\n",
      "2\n",
      "3\n",
      "4\n",
      "5\n",
      "YES\n"
     ]
    }
   ],
   "source": [
    "from math import sqrt\n",
    "def IsPointInCircle(q, w, e, r, t):\n",
    "    q = abs(e - q)\n",
    "    w = abs(r - w)\n",
    "    global x\n",
    "    x = q\n",
    "    global y\n",
    "    y = w\n",
    "x = float(input())\n",
    "y = float(input())\n",
    "xc = float(input())\n",
    "yc = float(input())\n",
    "r = float(input())\n",
    "if sqrt(x**2 + y**2) > r:\n",
    "    print('NO')\n",
    "else:\n",
    "    print('YES')"
   ]
  },
  {
   "cell_type": "markdown",
   "metadata": {},
   "source": [
    "## Задача 7"
   ]
  },
  {
   "cell_type": "code",
   "execution_count": 10,
   "metadata": {},
   "outputs": [
    {
     "name": "stdout",
     "output_type": "stream",
     "text": [
      "-1\n",
      "2\n",
      "YES\n"
     ]
    }
   ],
   "source": [
    "def IsPountInArea(x, y):\n",
    "    q = ((y >= -x) and (y >= 2 * x + 2) and ((((x + 1)**2) + ((y - 1)**2)) <= 4)) or (y <= -x and y <= 2 * x + 2 and (x + 1)**2 + (y - 1)**2 >= 4)\n",
    "    return q\n",
    "x = float(input())\n",
    "y = float(input())\n",
    "if IsPountInArea(x, y):\n",
    "    print('YES')\n",
    "else:\n",
    "    print('NO')"
   ]
  },
  {
   "cell_type": "markdown",
   "metadata": {},
   "source": [
    "## Задача 8"
   ]
  },
  {
   "cell_type": "code",
   "execution_count": 9,
   "metadata": {},
   "outputs": [
    {
     "name": "stdout",
     "output_type": "stream",
     "text": [
      "0\n",
      "1\n",
      "1\n"
     ]
    }
   ],
   "source": [
    "def xor(x, y):\n",
    "    q = (x > 0 and y > 0) or (x < 1 and y < 1)\n",
    "    return q\n",
    "x = int(input())\n",
    "y = int(input())\n",
    "if not xor(x, y):\n",
    "    print(1)\n",
    "else:\n",
    "    print(0)"
   ]
  },
  {
   "cell_type": "markdown",
   "metadata": {},
   "source": [
    "## Задача 9"
   ]
  },
  {
   "cell_type": "code",
   "execution_count": 11,
   "metadata": {},
   "outputs": [
    {
     "name": "stdout",
     "output_type": "stream",
     "text": [
      "9\n",
      "3\n"
     ]
    }
   ],
   "source": [
    "def MinDivisor(n):\n",
    "    for i in range(n):\n",
    "        i += 1\n",
    "        if i != 1:\n",
    "            if n % i == 0:\n",
    "                return i\n",
    "n = int(input())\n",
    "print(MinDivisor(n))"
   ]
  },
  {
   "cell_type": "markdown",
   "metadata": {},
   "source": [
    "## Задача 10"
   ]
  },
  {
   "cell_type": "code",
   "execution_count": 12,
   "metadata": {},
   "outputs": [
    {
     "name": "stdout",
     "output_type": "stream",
     "text": [
      "7\n",
      "YES\n"
     ]
    }
   ],
   "source": [
    "def IsPrime(n):\n",
    "    for i in range(n):\n",
    "        i += 1\n",
    "        if i != 1:\n",
    "            if n % i == 0 and i != n:\n",
    "                q = False\n",
    "                return q\n",
    "    q = True\n",
    "    return q\n",
    "n = int(input())\n",
    "if IsPrime(n):\n",
    "    print('YES')\n",
    "else:\n",
    "    print('NO')"
   ]
  },
  {
   "cell_type": "markdown",
   "metadata": {},
   "source": [
    "## Задача 11"
   ]
  },
  {
   "cell_type": "code",
   "execution_count": 23,
   "metadata": {},
   "outputs": [
    {
     "name": "stdout",
     "output_type": "stream",
     "text": [
      "2\n",
      "3\n",
      "8.0\n"
     ]
    }
   ],
   "source": [
    "def power(q, n):\n",
    "    def even(n):\n",
    "        if n % 2==0:\n",
    "            return 1\n",
    "        return 0\n",
    "    if n == 0:\n",
    "        return 1\n",
    "    if even(n):\n",
    "        return power(q, n / 2)**2\n",
    "    return q * power(q, n - 1)\n",
    "a = float(input())\n",
    "n = int(input())\n",
    "print(power(a, n))"
   ]
  },
  {
   "cell_type": "markdown",
   "metadata": {},
   "source": [
    "## Задача 12"
   ]
  },
  {
   "cell_type": "code",
   "execution_count": 26,
   "metadata": {},
   "outputs": [
    {
     "name": "stdout",
     "output_type": "stream",
     "text": [
      "2\n",
      "3\n",
      "8.0\n"
     ]
    }
   ],
   "source": [
    " def power(q, n):\n",
    "    def helpme(n):\n",
    "        if n % 2==0:\n",
    "            return 1\n",
    "        return 0\n",
    "    a = 1\n",
    "    if not helpme(n):\n",
    "        a = q\n",
    "        n -= 1\n",
    "    while n != 1:\n",
    "        q *= q\n",
    "        n /= 2\n",
    "    q *= a\n",
    "    return q\n",
    "a = float(input())\n",
    "n = int(input())\n",
    "print(power(a, n))"
   ]
  },
  {
   "cell_type": "markdown",
   "metadata": {},
   "source": [
    "## Задача 13"
   ]
  },
  {
   "cell_type": "code",
   "execution_count": 27,
   "metadata": {},
   "outputs": [
    {
     "name": "stdout",
     "output_type": "stream",
     "text": [
      "7\n",
      "9\n",
      "16\n"
     ]
    }
   ],
   "source": [
    "def power(q, n):\n",
    "    if not n:\n",
    "        print(q)\n",
    "        return q\n",
    "    else:\n",
    "        q += 1\n",
    "        n -= 1\n",
    "        if not n:\n",
    "            return q + power(q, n)\n",
    "        else:\n",
    "            power(q, n)\n",
    "a = int(input())\n",
    "n = int(input())\n",
    "power(a, n)"
   ]
  },
  {
   "cell_type": "markdown",
   "metadata": {},
   "source": [
    "## Задача 14"
   ]
  },
  {
   "cell_type": "code",
   "execution_count": 28,
   "metadata": {},
   "outputs": [
    {
     "name": "stdout",
     "output_type": "stream",
     "text": [
      "7\n",
      "5\n",
      "16807.0\n"
     ]
    }
   ],
   "source": [
    "def power(q, n):\n",
    "    def even(n):\n",
    "        if n % 2==0:\n",
    "            return 1\n",
    "        return 0\n",
    "    if n == 0:\n",
    "        return 1\n",
    "    if even(n):\n",
    "        return power(q, n / 2)**2\n",
    "    return q * power(q, n - 1)\n",
    "a = float(input())\n",
    "n = int(input())\n",
    "print(power(a, n))"
   ]
  },
  {
   "cell_type": "markdown",
   "metadata": {},
   "source": [
    "## Задача 15"
   ]
  },
  {
   "cell_type": "code",
   "execution_count": 31,
   "metadata": {},
   "outputs": [
    {
     "name": "stdout",
     "output_type": "stream",
     "text": [
      "18\n",
      "24\n",
      "6\n"
     ]
    }
   ],
   "source": [
    "def gcd(a, b):\n",
    "    if a == 0 or b == 0:\n",
    "         return max(a, b)\n",
    "    else:\n",
    "        if a > b:\n",
    "            return gcd(a - b, b)\n",
    "        else:\n",
    "            return gcd(a, b - a)\n",
    "a = int(input())\n",
    "b = int(input())\n",
    "print(gcd(a, b))"
   ]
  },
  {
   "cell_type": "markdown",
   "metadata": {},
   "source": [
    "## Задача 16"
   ]
  },
  {
   "cell_type": "code",
   "execution_count": 32,
   "metadata": {},
   "outputs": [
    {
     "name": "stdout",
     "output_type": "stream",
     "text": [
      "36\n",
      "48\n",
      "(3, 4)\n"
     ]
    }
   ],
   "source": [
    "def gcd(a, b):\n",
    "    if a == 0 or b == 0:\n",
    "         return max(a, b)\n",
    "    else:\n",
    "        if a > b:\n",
    "            return gcd(a - b, b)\n",
    "        else:\n",
    "            return gcd(a, b - a)\n",
    "def ReduceFraction(n, m):\n",
    "    if n // gcd(n, m) == n and m // gcd(n, m) == m:\n",
    "        return (n, m)\n",
    "    else:\n",
    "        z = n // gcd(n, m)\n",
    "        m = m // gcd(n, m)\n",
    "        n = z\n",
    "        ReduceFraction(n, m)\n",
    "    return (n // gcd(n, m), m // gcd(n, m))\n",
    "a = int(input())\n",
    "b = int(input())\n",
    "print(ReduceFraction(a, b))"
   ]
  },
  {
   "cell_type": "markdown",
   "metadata": {},
   "source": [
    "## Задача 17"
   ]
  },
  {
   "cell_type": "code",
   "execution_count": 1,
   "metadata": {},
   "outputs": [
    {
     "name": "stdout",
     "output_type": "stream",
     "text": [
      "7\n",
      "13\n"
     ]
    }
   ],
   "source": [
    "def fib(a, b, c):\n",
    "    i = 2\n",
    "    c = c - 1\n",
    "    q = a + b\n",
    "    a = b\n",
    "    b = q\n",
    "    if (i == c):\n",
    "        return q\n",
    "    else:\n",
    "        fib(a, b, c)\n",
    "    return fib(a, b, c)\n",
    "def phib(q):\n",
    "    if q == 1 or q == 2:\n",
    "        return 1\n",
    "    else:\n",
    "        return fib(1, 1, q)\n",
    "n = int(input())\n",
    "print(phib(n))"
   ]
  },
  {
   "cell_type": "markdown",
   "metadata": {},
   "source": [
    "## Задача 18"
   ]
  },
  {
   "cell_type": "code",
   "execution_count": 2,
   "metadata": {},
   "outputs": [
    {
     "name": "stdout",
     "output_type": "stream",
     "text": [
      "4\n",
      "2\n",
      "6\n"
     ]
    }
   ],
   "source": [
    "def C(n, k):\n",
    "    if (k==0 or k==n):\n",
    "        return 1\n",
    "    else:\n",
    "        return C(n-1,k-1)+C(n-1,k)\n",
    "n = int(input())\n",
    "k = int(input())\n",
    "print(C(n, k))"
   ]
  },
  {
   "cell_type": "markdown",
   "metadata": {},
   "source": [
    "## Задача 19"
   ]
  },
  {
   "cell_type": "code",
   "execution_count": 3,
   "metadata": {},
   "outputs": [
    {
     "name": "stdout",
     "output_type": "stream",
     "text": [
      "1\n",
      "2\n",
      "3\n",
      "4\n",
      "5\n",
      "6\n",
      "7\n",
      "8\n",
      "9\n",
      "10\n",
      "0\n",
      "55\n"
     ]
    }
   ],
   "source": [
    "def wer(Q, i, s):\n",
    "    s = s + Q[i]\n",
    "    i += 1\n",
    "    if i == len(Q):\n",
    "        return s\n",
    "    else:\n",
    "        wer(Q, i, s)\n",
    "    return wer(Q, i, s)\n",
    "def sum(Q):\n",
    "    z = int(input())\n",
    "    if z:\n",
    "        Q.append(z)\n",
    "        sum(Q)\n",
    "    else:\n",
    "        return Q\n",
    "    return Q\n",
    "Q = []\n",
    "(sum(Q))\n",
    "print(wer(Q, 0, 0))"
   ]
  },
  {
   "cell_type": "markdown",
   "metadata": {},
   "source": [
    "## Задача 20"
   ]
  },
  {
   "cell_type": "code",
   "execution_count": 4,
   "metadata": {
    "scrolled": true
   },
   "outputs": [
    {
     "name": "stdout",
     "output_type": "stream",
     "text": [
      "1\n",
      "2\n",
      "3\n",
      "4\n",
      "5\n",
      "6\n",
      "0\n",
      "0\n",
      "6\n",
      "5\n",
      "4\n",
      "3\n",
      "2\n",
      "1\n"
     ]
    }
   ],
   "source": [
    "def reverse():\n",
    "    x = int(input())\n",
    "    if x!=0:\n",
    "        reverse()\n",
    "    print(x)\n",
    "reverse()"
   ]
  },
  {
   "cell_type": "markdown",
   "metadata": {},
   "source": [
    "## Задача 21"
   ]
  },
  {
   "cell_type": "code",
   "execution_count": 5,
   "metadata": {},
   "outputs": [
    {
     "name": "stdout",
     "output_type": "stream",
     "text": [
      "3\n",
      "1 1 3\n",
      "2 1 2\n",
      "1 3 2\n",
      "3 1 3\n",
      "1 2 1\n",
      "2 2 3\n",
      "1 1 3\n"
     ]
    }
   ],
   "source": [
    "def h(n, x, y):\n",
    "    if n == 1:\n",
    "        print(1, x, y)\n",
    "    else:\n",
    "        h(n-1, x, 6-x-y)\n",
    "        print(n, x, y)\n",
    "        h(n-1, 6-x-y, y)\n",
    "h(int(input()), 1, 3)"
   ]
  },
  {
   "cell_type": "markdown",
   "metadata": {},
   "source": [
    "## Задача 22"
   ]
  },
  {
   "cell_type": "code",
   "execution_count": 6,
   "metadata": {},
   "outputs": [
    {
     "name": "stdout",
     "output_type": "stream",
     "text": [
      "7\n",
      "2\n",
      "1\n",
      "1\n",
      "1\n"
     ]
    }
   ],
   "source": [
    "def lagrange(n):\n",
    "    for i in range(4):\n",
    "        s = int(n ** 0.5)\n",
    "        n = n - s ** 2\n",
    "        if s != 0:\n",
    "            print(s)\n",
    "n = int(input())\n",
    "lagrange(n)"
   ]
  },
  {
   "cell_type": "markdown",
   "metadata": {},
   "source": [
    "## Задача 23"
   ]
  },
  {
   "cell_type": "code",
   "execution_count": 7,
   "metadata": {},
   "outputs": [
    {
     "name": "stdout",
     "output_type": "stream",
     "text": [
      "2\n"
     ]
    },
    {
     "data": {
      "text/plain": [
       "[1, 1]"
      ]
     },
     "execution_count": 7,
     "metadata": {},
     "output_type": "execute_result"
    }
   ],
   "source": [
    "def sum(n):\n",
    "    z=[]\n",
    "    k=1\n",
    "    while(k**3<=n):\n",
    "        z=[k**3]+z\n",
    "        k+=1\n",
    "    k=0\n",
    "    u=0\n",
    "    r=[]\n",
    "    while(True):\n",
    "        if u+z[k]==n:\n",
    "            r=r+[z[k]]\n",
    "            break\n",
    "        if u+z[k]<n:\n",
    "            u=u+z[k]\n",
    "            r=r+[z[k]]\n",
    "        k+=1\n",
    "        if k==len(z):\n",
    "            k=0\n",
    "    return r        \n",
    "n = int(input())    \n",
    "sum(n)"
   ]
  },
  {
   "cell_type": "markdown",
   "metadata": {},
   "source": [
    "## Задача 24"
   ]
  },
  {
   "cell_type": "code",
   "execution_count": 8,
   "metadata": {},
   "outputs": [
    {
     "name": "stdout",
     "output_type": "stream",
     "text": [
      "5\n",
      "5\n",
      "5\n",
      "0\n",
      "0\n"
     ]
    }
   ],
   "source": [
    "def sqr():\n",
    "    n = int(input())\n",
    "    if n != 0:\n",
    "        sqr()\n",
    "        if (n ** (1 / 2)).is_integer():\n",
    "            global t\n",
    "            t = 0\n",
    "            print(n, end=' ') \n",
    "t = 1\n",
    "sqr()\n",
    "if t:\n",
    "    print(0)"
   ]
  },
  {
   "cell_type": "code",
   "execution_count": null,
   "metadata": {},
   "outputs": [],
   "source": []
  }
 ],
 "metadata": {
  "kernelspec": {
   "display_name": "Python 3",
   "language": "python",
   "name": "python3"
  },
  "language_info": {
   "codemirror_mode": {
    "name": "ipython",
    "version": 3
   },
   "file_extension": ".py",
   "mimetype": "text/x-python",
   "name": "python",
   "nbconvert_exporter": "python",
   "pygments_lexer": "ipython3",
   "version": "3.7.4"
  }
 },
 "nbformat": 4,
 "nbformat_minor": 4
}
