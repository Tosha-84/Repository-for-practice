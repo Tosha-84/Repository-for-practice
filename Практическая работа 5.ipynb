{
 "cells": [
  {
   "cell_type": "markdown",
   "metadata": {},
   "source": [
    "# Практическая работа 5"
   ]
  },
  {
   "cell_type": "markdown",
   "metadata": {},
   "source": [
    "## Задача 1"
   ]
  },
  {
   "cell_type": "code",
   "execution_count": 1,
   "metadata": {},
   "outputs": [
    {
     "name": "stdout",
     "output_type": "stream",
     "text": [
      "50\n",
      "1 4 9 16 25 36 49 "
     ]
    }
   ],
   "source": [
    "N = int(input())\n",
    "i = 1\n",
    "while (i**2 <= N):\n",
    "    print(i**2, end=' ')\n",
    "    i = i + 1"
   ]
  },
  {
   "cell_type": "markdown",
   "metadata": {},
   "source": [
    "## Задача 2"
   ]
  },
  {
   "cell_type": "code",
   "execution_count": 2,
   "metadata": {},
   "outputs": [
    {
     "name": "stdout",
     "output_type": "stream",
     "text": [
      "49\n",
      "7\n"
     ]
    }
   ],
   "source": [
    "q = int(input())\n",
    "i = 2\n",
    "while q % i != 0:\n",
    "    i = i + 1\n",
    "print(i)"
   ]
  },
  {
   "cell_type": "markdown",
   "metadata": {},
   "source": [
    "## Задача 3"
   ]
  },
  {
   "cell_type": "code",
   "execution_count": 3,
   "metadata": {},
   "outputs": [
    {
     "name": "stdout",
     "output_type": "stream",
     "text": [
      "63\n",
      "1 2 4 8 16 32 "
     ]
    }
   ],
   "source": [
    "N = int(input())\n",
    "i = 1\n",
    "if i <= N:\n",
    "    print(i, end=' ')\n",
    "while (i < N):\n",
    "    i = i * 2\n",
    "    if i <= N:\n",
    "        print(i, end=' ')"
   ]
  },
  {
   "cell_type": "markdown",
   "metadata": {},
   "source": [
    "## Задача 4"
   ]
  },
  {
   "cell_type": "code",
   "execution_count": 4,
   "metadata": {},
   "outputs": [
    {
     "name": "stdout",
     "output_type": "stream",
     "text": [
      "128\n",
      "YES\n"
     ]
    }
   ],
   "source": [
    "N = int(input())\n",
    "q = '0'\n",
    "if N == 1:\n",
    "    q = 'YES'\n",
    "    print(q)\n",
    "else:\n",
    "    i = 1\n",
    "    while (i < N):\n",
    "        i = i * 2\n",
    "        if i == N:\n",
    "            q = 'YES'\n",
    "            print(q)\n",
    "if q == '0':\n",
    "    print('NO')"
   ]
  },
  {
   "cell_type": "markdown",
   "metadata": {},
   "source": [
    "## Задача 5"
   ]
  },
  {
   "cell_type": "code",
   "execution_count": 5,
   "metadata": {},
   "outputs": [
    {
     "name": "stdout",
     "output_type": "stream",
     "text": [
      "33\n",
      "6\n"
     ]
    }
   ],
   "source": [
    "N = int(input())\n",
    "if N == 1:\n",
    "    print(0)\n",
    "else:\n",
    "    k = 0\n",
    "    q = 1\n",
    "    while q < N:\n",
    "        q = q * 2\n",
    "        k = k + 1\n",
    "    print(k)"
   ]
  },
  {
   "cell_type": "markdown",
   "metadata": {},
   "source": [
    "## Задача 6"
   ]
  },
  {
   "cell_type": "code",
   "execution_count": 6,
   "metadata": {},
   "outputs": [
    {
     "name": "stdout",
     "output_type": "stream",
     "text": [
      "10\n",
      "100\n",
      "26\n"
     ]
    }
   ],
   "source": [
    "X = int(input())\n",
    "Y = int(input())\n",
    "if Y <= X:\n",
    "    print(1)\n",
    "else:\n",
    "    q = 1\n",
    "    while X < Y:\n",
    "        X = X + X * 0.1\n",
    "        q = q + 1\n",
    "    print(q)"
   ]
  },
  {
   "cell_type": "markdown",
   "metadata": {},
   "source": [
    "## Задача 7"
   ]
  },
  {
   "cell_type": "code",
   "execution_count": 7,
   "metadata": {},
   "outputs": [
    {
     "name": "stdout",
     "output_type": "stream",
     "text": [
      "2\n",
      "1\n",
      "3\n",
      "1\n",
      "2\n",
      "6\n",
      "4\n",
      "8\n",
      "5\n",
      "2\n",
      "3\n",
      "1\n",
      "5\n",
      "4\n",
      "6\n",
      "7\n",
      "5\n",
      "6\n",
      "2\n",
      "0\n",
      "8\n"
     ]
    }
   ],
   "source": [
    "z = 0\n",
    "q = 1\n",
    "while q != 0:\n",
    "    q = int(input())\n",
    "    if z < q:\n",
    "        z = q\n",
    "print(z)"
   ]
  },
  {
   "cell_type": "markdown",
   "metadata": {},
   "source": [
    "## Задача 8"
   ]
  },
  {
   "cell_type": "code",
   "execution_count": 8,
   "metadata": {},
   "outputs": [
    {
     "name": "stdout",
     "output_type": "stream",
     "text": [
      "3\n",
      "14\n"
     ]
    }
   ],
   "source": [
    "n = int(input())\n",
    "i = 1\n",
    "q = 0\n",
    "while i <= n:\n",
    "    q = q + i**2\n",
    "    i = i + 1\n",
    "print(q)"
   ]
  },
  {
   "cell_type": "markdown",
   "metadata": {},
   "source": [
    "## Задача 9"
   ]
  },
  {
   "cell_type": "code",
   "execution_count": 15,
   "metadata": {
    "scrolled": true
   },
   "outputs": [
    {
     "name": "stdout",
     "output_type": "stream",
     "text": [
      "4\n",
      "5\n",
      "86\n",
      "0\n",
      "3\n"
     ]
    }
   ],
   "source": [
    "n = int(input())\n",
    "i = 0\n",
    "while n != 0:\n",
    "    n = int(input())\n",
    "    i += 1\n",
    "print(i)"
   ]
  },
  {
   "cell_type": "markdown",
   "metadata": {},
   "source": [
    "## Задача 10"
   ]
  },
  {
   "cell_type": "code",
   "execution_count": 16,
   "metadata": {},
   "outputs": [
    {
     "name": "stdout",
     "output_type": "stream",
     "text": [
      "1\n",
      "2\n",
      "3\n",
      "4\n",
      "5\n",
      "0\n",
      "15\n"
     ]
    }
   ],
   "source": [
    "n = int(input())\n",
    "i = n\n",
    "while n != 0:\n",
    "    n = int(input())\n",
    "    i += n\n",
    "print(i)"
   ]
  },
  {
   "cell_type": "markdown",
   "metadata": {},
   "source": [
    "## Задача 11"
   ]
  },
  {
   "cell_type": "code",
   "execution_count": 17,
   "metadata": {},
   "outputs": [
    {
     "name": "stdout",
     "output_type": "stream",
     "text": [
      "3\n",
      "5\n",
      "4\n",
      "6\n",
      "2\n",
      "0\n",
      "4.0\n"
     ]
    }
   ],
   "source": [
    "n = int(input())\n",
    "i = n\n",
    "k = 0\n",
    "while n != 0:\n",
    "    n = int(input())\n",
    "    i += n\n",
    "    k += 1\n",
    "print(i / k)"
   ]
  },
  {
   "cell_type": "markdown",
   "metadata": {},
   "source": [
    "## Задача 12"
   ]
  },
  {
   "cell_type": "code",
   "execution_count": 18,
   "metadata": {},
   "outputs": [
    {
     "name": "stdout",
     "output_type": "stream",
     "text": [
      "1\n",
      "2\n",
      "6\n",
      "5\n",
      "9\n",
      "0\n",
      "2\n"
     ]
    }
   ],
   "source": [
    "n = int(input())\n",
    "k = 0\n",
    "if n % 2 == 0:\n",
    "    k += 1\n",
    "while n != 0:\n",
    "    n = int(input())\n",
    "    if n % 2 == 0:\n",
    "        k += 1\n",
    "print(k - 1)"
   ]
  },
  {
   "cell_type": "markdown",
   "metadata": {},
   "source": [
    "## Задача 13"
   ]
  },
  {
   "cell_type": "code",
   "execution_count": 19,
   "metadata": {},
   "outputs": [
    {
     "name": "stdout",
     "output_type": "stream",
     "text": [
      "2\n",
      "6\n",
      "1\n",
      "4\n",
      "5\n",
      "9\n",
      "8\n",
      "0\n",
      "4\n"
     ]
    }
   ],
   "source": [
    "n = int(input())\n",
    "k = n\n",
    "i = 0\n",
    "while n != 0:\n",
    "    if n > k:\n",
    "        i = i + 1\n",
    "    k = n\n",
    "    n = int(input())\n",
    "print(i)"
   ]
  },
  {
   "cell_type": "markdown",
   "metadata": {},
   "source": [
    "## Задача 14"
   ]
  },
  {
   "cell_type": "code",
   "execution_count": 20,
   "metadata": {
    "scrolled": true
   },
   "outputs": [
    {
     "name": "stdout",
     "output_type": "stream",
     "text": [
      "4\n",
      "5\n",
      "8\n",
      "2\n",
      "9\n",
      "0\n",
      "8\n"
     ]
    }
   ],
   "source": [
    "n = int(input())\n",
    "k = 0\n",
    "max = n\n",
    "while n != 0:\n",
    "    if n > max:\n",
    "        k = max\n",
    "        max = n\n",
    "    n = int(input())\n",
    "print(k)"
   ]
  },
  {
   "cell_type": "markdown",
   "metadata": {},
   "source": [
    "## Задача 15"
   ]
  },
  {
   "cell_type": "code",
   "execution_count": 21,
   "metadata": {},
   "outputs": [
    {
     "name": "stdout",
     "output_type": "stream",
     "text": [
      "4\n",
      "5\n",
      "5\n",
      "2\n",
      "6\n",
      "6\n",
      "6\n",
      "0\n",
      "2\n"
     ]
    }
   ],
   "source": [
    "n = int(input())\n",
    "max = n\n",
    "i = 0\n",
    "while n != 0:\n",
    "    if n == max:\n",
    "        i = i + 1\n",
    "    elif n > max:\n",
    "        max = n\n",
    "        i = 0\n",
    "    n = int(input())\n",
    "print(i)"
   ]
  },
  {
   "cell_type": "markdown",
   "metadata": {},
   "source": [
    "## Задача 16"
   ]
  },
  {
   "cell_type": "code",
   "execution_count": 1,
   "metadata": {},
   "outputs": [
    {
     "name": "stdout",
     "output_type": "stream",
     "text": [
      "6\n",
      "8\n"
     ]
    }
   ],
   "source": [
    "n = int(input())\n",
    "if n == 1 or n == 2:\n",
    "    print(1)\n",
    "else:\n",
    "    q = 1\n",
    "    w = 1\n",
    "    i = 1\n",
    "    sum = 0\n",
    "    while i + 2 <= n:\n",
    "        i += 1\n",
    "        sum = q + w\n",
    "        q = w\n",
    "        w = sum\n",
    "    print(w)"
   ]
  },
  {
   "cell_type": "markdown",
   "metadata": {},
   "source": [
    "## Задача 17"
   ]
  },
  {
   "cell_type": "code",
   "execution_count": 2,
   "metadata": {},
   "outputs": [
    {
     "name": "stdout",
     "output_type": "stream",
     "text": [
      "8\n",
      "6\n"
     ]
    }
   ],
   "source": [
    "n = int(input())\n",
    "if n == 1:\n",
    "    print(1, 'или', 2)\n",
    "else:\n",
    "    check = 0\n",
    "    q = 1\n",
    "    w = 1\n",
    "    i = 2\n",
    "    sum = 0\n",
    "    while sum < n:\n",
    "        sum = q + w\n",
    "        q = w\n",
    "        w = sum\n",
    "        i += 1\n",
    "        if sum == n:\n",
    "            check += 1\n",
    "            print(i)\n",
    "    if check == 0:\n",
    "        print(-1)"
   ]
  },
  {
   "cell_type": "markdown",
   "metadata": {},
   "source": [
    "## Задача 18"
   ]
  },
  {
   "cell_type": "code",
   "execution_count": 3,
   "metadata": {},
   "outputs": [
    {
     "name": "stdout",
     "output_type": "stream",
     "text": [
      "179\n",
      "20\n",
      "-1\n",
      ":2\n",
      "-1\n",
      ":2\n",
      ":2\n",
      "-1\n",
      "-1\n"
     ]
    }
   ],
   "source": [
    "A = int(input())\n",
    "B = int(input())\n",
    "while A != B:\n",
    "    if A % 2 == 0 and A // 2 >= B:\n",
    "        A = A // 2\n",
    "        print(':2')\n",
    "    else:\n",
    "        A = A - 1\n",
    "        print('-1')"
   ]
  },
  {
   "cell_type": "markdown",
   "metadata": {},
   "source": [
    "## Задача 19"
   ]
  },
  {
   "cell_type": "code",
   "execution_count": 4,
   "metadata": {},
   "outputs": [
    {
     "name": "stdout",
     "output_type": "stream",
     "text": [
      "63541\n",
      "14536\n"
     ]
    }
   ],
   "source": [
    "n = int(input())\n",
    "n = str(n)\n",
    "if len(n) == 1:\n",
    "    n = int(n)\n",
    "    print(n)\n",
    "else:\n",
    "    q = []\n",
    "    x = 0\n",
    "    for i in range(len(n)):\n",
    "        q.append(n[i])\n",
    "    for i in range(len(n) // 2):\n",
    "        z = q[len(n) - (i + 1)]\n",
    "        q[len(n) - (i + 1)] = q[i]\n",
    "        q[i] = z\n",
    "    for i in range(len(n)):\n",
    "        x = x + int(q[i]) * 10 ** (len(n) - (i + 1))\n",
    "    print(x)"
   ]
  },
  {
   "cell_type": "markdown",
   "metadata": {},
   "source": [
    "## Задача 20"
   ]
  },
  {
   "cell_type": "code",
   "execution_count": 5,
   "metadata": {},
   "outputs": [
    {
     "name": "stdout",
     "output_type": "stream",
     "text": [
      "100\n",
      "18\n"
     ]
    }
   ],
   "source": [
    "n = int(input())\n",
    "if n < 10:\n",
    "    print(n)\n",
    "else:\n",
    "    sum = 9\n",
    "    for j in range(n - 9):\n",
    "        j = j + 10\n",
    "        j = str(j)\n",
    "        q = []\n",
    "        x = 0\n",
    "        for i in range(len(j)):\n",
    "            q.append(j[i])\n",
    "        for i in range(len(j) // 2):\n",
    "            z = q[len(j) - (i + 1)]\n",
    "            q[len(j) - (i + 1)] = q[i]\n",
    "            q[i] = z\n",
    "        for i in range(len(j)):\n",
    "            x = x + int(q[i]) * 10 ** (len(j) - (i + 1))\n",
    "        if int(j)==x:\n",
    "            sum = sum + 1\n",
    "    print(sum)"
   ]
  },
  {
   "cell_type": "markdown",
   "metadata": {},
   "source": [
    "## Задача 21"
   ]
  },
  {
   "cell_type": "code",
   "execution_count": 7,
   "metadata": {},
   "outputs": [
    {
     "name": "stdout",
     "output_type": "stream",
     "text": [
      "1\n",
      "2\n",
      "2\n",
      "3\n",
      "2\n",
      "2\n",
      "3\n",
      "0\n",
      "4\n"
     ]
    }
   ],
   "source": [
    "q = []\n",
    "w = []\n",
    "n = -1\n",
    "while n != 0:\n",
    "    n = int(input())\n",
    "    if n != 0:\n",
    "        q.append(n)\n",
    "while q != []:\n",
    "    i = 0\n",
    "    f = q[0]\n",
    "    q.pop(0)\n",
    "    z = 1\n",
    "    while i < len(q):\n",
    "        if q[i] == f:\n",
    "            z = z + 1\n",
    "            q.pop(i)\n",
    "            i = i - 1\n",
    "        i = i + 1\n",
    "    w.append(z)\n",
    "print(max(w))"
   ]
  },
  {
   "cell_type": "markdown",
   "metadata": {},
   "source": [
    "## Задача 22"
   ]
  },
  {
   "cell_type": "code",
   "execution_count": 16,
   "metadata": {},
   "outputs": [
    {
     "name": "stdout",
     "output_type": "stream",
     "text": [
      "1\n",
      "2\n",
      "3\n",
      "4\n",
      "2\n",
      "0\n",
      "4\n"
     ]
    }
   ],
   "source": [
    "\n",
    "x1=int(input())\n",
    "x2=int(input())\n",
    "n_max=1\n",
    "n=1\n",
    "while 0==0:\n",
    "    if x2==0 or x1==0:\n",
    "        break    \n",
    "    while x1>x2:\n",
    "        if x2==0:\n",
    "            break        \n",
    "        n+=1\n",
    "        if n>n_max:\n",
    "            n_max=n\n",
    "            x1=x2\n",
    "            x2=int(input())\n",
    "        else:\n",
    "            x1=x2\n",
    "            x2=int(input())\n",
    "    n=1\n",
    "    while x1<x2:\n",
    "        n+=1\n",
    "        if n>n_max:\n",
    "            n_max=n\n",
    "            x1=x2\n",
    "            x2=int(input())\n",
    "        else:\n",
    "            x1=x2\n",
    "            x2=int(input())\n",
    "    n=1\n",
    "    while x1==x2:\n",
    "        n=1\n",
    "        x1=x2\n",
    "        x2=int(input())\n",
    "print(n_max)"
   ]
  },
  {
   "cell_type": "markdown",
   "metadata": {},
   "source": [
    "## Задача 23"
   ]
  },
  {
   "cell_type": "code",
   "execution_count": 14,
   "metadata": {},
   "outputs": [
    {
     "name": "stdout",
     "output_type": "stream",
     "text": [
      "1\n",
      "2\n",
      "1\n",
      "1\n",
      "2\n",
      "1\n",
      "2\n",
      "1\n",
      "0\n",
      "2\n"
     ]
    }
   ],
   "source": [
    "x = 1\n",
    "i = 0\n",
    "q1 = 1\n",
    "q2 = 0\n",
    "q3 = 0\n",
    "max1 = 0\n",
    "max2 = 0\n",
    "Res = 1000000\n",
    "while q1 != 0:\n",
    "    i += 1\n",
    "    q3 = q2\n",
    "    q2 = q1\n",
    "    q1 = int(input())\n",
    "    if i > 2 and q2 > q1 and q2 > q3 and q1 != 0:\n",
    "        max2 = max1\n",
    "        max1 =  i\n",
    "        if (max1 > 0) and (max2 > 0) and (max1 - max2 < Res):\n",
    "            Res = max1 - max2\n",
    "if Res == 1000000: Res = 0\n",
    "print(Res)"
   ]
  },
  {
   "cell_type": "markdown",
   "metadata": {},
   "source": [
    "## Задача 24"
   ]
  },
  {
   "cell_type": "code",
   "execution_count": 10,
   "metadata": {
    "scrolled": true
   },
   "outputs": [
    {
     "name": "stdout",
     "output_type": "stream",
     "text": [
      "3\n",
      "4\n",
      "5\n",
      "6\n"
     ]
    }
   ],
   "source": [
    "import math\n",
    "e, r, t = int(input()), int(input()), int(input())\n",
    "p = (t + e + r) / 2\n",
    "z = math.sqrt(p * (p - t) * (p - e) * (p - r))\n",
    "if z == int(z):\n",
    "    print(int(z))\n",
    "else:\n",
    "    print(z)"
   ]
  },
  {
   "cell_type": "code",
   "execution_count": null,
   "metadata": {},
   "outputs": [],
   "source": []
  }
 ],
 "metadata": {
  "kernelspec": {
   "display_name": "Python 3",
   "language": "python",
   "name": "python3"
  },
  "language_info": {
   "codemirror_mode": {
    "name": "ipython",
    "version": 3
   },
   "file_extension": ".py",
   "mimetype": "text/x-python",
   "name": "python",
   "nbconvert_exporter": "python",
   "pygments_lexer": "ipython3",
   "version": "3.7.4"
  }
 },
 "nbformat": 4,
 "nbformat_minor": 4
}
